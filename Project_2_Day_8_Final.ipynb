{
  "nbformat": 4,
  "nbformat_minor": 0,
  "metadata": {
    "kernelspec": {
      "display_name": "Python 3",
      "language": "python",
      "name": "python3"
    },
    "language_info": {
      "codemirror_mode": {
        "name": "ipython",
        "version": 3
      },
      "file_extension": ".py",
      "mimetype": "text/x-python",
      "name": "python",
      "nbconvert_exporter": "python",
      "pygments_lexer": "ipython3",
      "version": "3.7.4"
    },
    "colab": {
      "name": "Project 2 Day 8 - Final.ipynb",
      "provenance": [],
      "include_colab_link": true
    }
  },
  "cells": [
    {
      "cell_type": "markdown",
      "metadata": {
        "id": "view-in-github",
        "colab_type": "text"
      },
      "source": [
        "<a href=\"https://colab.research.google.com/github/CurtCalledBurt/DS_Unit2_Build_Week/blob/master/Project_2_Day_8_Final.ipynb\" target=\"_parent\"><img src=\"https://colab.research.google.com/assets/colab-badge.svg\" alt=\"Open In Colab\"/></a>"
      ]
    },
    {
      "cell_type": "code",
      "metadata": {
        "id": "olqjhBNdDyWb",
        "colab_type": "code",
        "colab": {}
      },
      "source": [
        "import pandas as pd\n",
        "import numpy as np\n",
        "import matplotlib.pyplot as plt\n",
        "import seaborn as sns\n",
        "from sklearn.model_selection import train_test_split\n",
        "\n",
        "df = pd.read_csv('https://raw.githubusercontent.com/CurtCalledBurt/DS_Unit2_Build_Week/master/games.csv')"
      ],
      "execution_count": 0,
      "outputs": []
    },
    {
      "cell_type": "code",
      "metadata": {
        "id": "wMi6wViFDyXr",
        "colab_type": "code",
        "outputId": "c5cdffe7-37b7-49b8-9270-f5265ade2367",
        "colab": {
          "base_uri": "https://localhost:8080/",
          "height": 118
        }
      },
      "source": [
        "df.columns"
      ],
      "execution_count": 2,
      "outputs": [
        {
          "output_type": "execute_result",
          "data": {
            "text/plain": [
              "Index(['id', 'type', 'name', 'yearpublished', 'minplayers', 'maxplayers',\n",
              "       'playingtime', 'minplaytime', 'maxplaytime', 'minage', 'users_rated',\n",
              "       'average_rating', 'bayes_average_rating', 'total_owners',\n",
              "       'total_traders', 'total_wanters', 'total_wishers', 'total_comments',\n",
              "       'total_weights', 'average_weight'],\n",
              "      dtype='object')"
            ]
          },
          "metadata": {
            "tags": []
          },
          "execution_count": 2
        }
      ]
    },
    {
      "cell_type": "code",
      "metadata": {
        "id": "pWVc59cXDyYk",
        "colab_type": "code",
        "colab": {}
      },
      "source": [
        "# from the glossary I have been able to deduce that:\n",
        "\n",
        "# traders is either:\n",
        "# 1. the number of people who own the game and are willing to trade it, or\n",
        "# 2. the number of people who want the game through trade, not purchase\n",
        "\n",
        "# wanters are those who want the game through trade, typically\n",
        "# wishers are those who want to buy the game\n",
        "\n",
        "# a weight on the site is an abstract measure of how complex a game is, \n",
        "# this number ranges from 1 to 5\n",
        "# So,\n",
        "\n",
        "# total_weights is either: \n",
        "# 1. the total number of people have submitted a \"weight\" for the game or\n",
        "# 2. the total number of all the weights submitted and added up,\n",
        "# and\n",
        "\n",
        "# average_weight is most likely an average of all the measures of weight\n",
        "# submitted by users. This seems most likely as this column ranges from\n",
        "# 1 to 5, like the weights themselves would.\n",
        "\n",
        "\n",
        "column_names = {'yearpublished': 'year_published', 'minplayers': 'min_players',\n",
        "               'maxplayers': 'max_players','playingtime': 'playtime',\n",
        "                'minplaytime': 'min_playtime', 'maxplaytime': 'max_playtime', \n",
        "                'minage': 'min_age'}\n",
        "df = df.rename(columns=column_names)\n",
        "\n",
        "df = df.drop_duplicates()\n",
        "\n",
        "\n",
        "\n",
        "\n",
        "df_old = df.copy()\n",
        "\n",
        "# The line of code below this might be the most important line of code here.\n",
        "# We have a lot of games that have no ratings and so their average rating is 0.\n",
        "# If we don't purge the dataset of these games the model appears far more accuarate that it is\n",
        "# because the only time that an average rating is 0 is when it has no user ratings. So the model\n",
        "# doesn't really do any complicated prediction in that case, it just sees that a game has no ratings,\n",
        "# and therefore mathematically has an average rating of 0.\n",
        "\n",
        "# The project as presented via the blog post is a comparison of what happens when you do purge these zeroes\n",
        "# versus what happens when you don't so\n",
        "# we created a copy of the dataset with all the zeroes still in it to show what happens when you don't\n",
        "# get rid of these rows.\n",
        "\n",
        "df = df[df['users_rated'] > 0]"
      ],
      "execution_count": 0,
      "outputs": []
    },
    {
      "cell_type": "code",
      "metadata": {
        "id": "N78QzGbKDyYn",
        "colab_type": "code",
        "colab": {}
      },
      "source": [
        "# feature selection\n",
        "\n",
        "# We try predicting 'average_rating' and see what happens with that.\n",
        "target = 'average_rating'\n",
        "\n",
        "# Obviously we wouldn't know the bayes_average_rating if we knew the average rating, \n",
        "# so we remove that from the features. \n",
        "\n",
        "things_we_cannot_know = ['bayes_average_rating']\n",
        "\n",
        "# we throw out any id's and otherwise not helpful information.\n",
        "things_we_do_not_need = ['name', 'type', 'id']\n",
        "\n",
        "# turns out max_playtime and playtime are the same column in all \n",
        "# entrees except for three of them, so we'll drop playtime too\n",
        "redundant = ['playtime']\n",
        "\n",
        "all_in_all = things_we_cannot_know + things_we_do_not_need + redundant\n",
        "\n",
        "\n",
        "# we get the features we want\n",
        "features = df.columns.drop([target] + all_in_all)\n",
        "X = df[features]\n",
        "y = df[target]\n",
        "\n",
        "X_old = df_old[features]\n",
        "y_old = df_old[target]\n",
        "\n",
        "\n",
        "\n",
        "# We'll make a few features we won't end up using because they don't end up helping\n",
        "\n",
        "# Okay, I still don't get this whole SetWithoutCopy Error thing,\n",
        "# but it looks like after making new columns of X with binary operations you should \n",
        "# overwrite a copy of X with the new column and then make a new copy.\n",
        "# This is the only line of code of all the feature making lines that requires this.\n",
        "\n",
        "X=X.copy()\n",
        "# X['min_age_15_or_higher'] = X['min_age'] >= 15\n",
        "X=X.copy()\n",
        "\n",
        "\n",
        "\n",
        "\n",
        "\n",
        "# Even after dropping the 0 ratings columns this feature engineering didn't do much.\n",
        "# Too bad.\n",
        "\n",
        "# X['total_interaction'] = X['total_owners'] + X['users_rated'] + X['total_traders'] + X['total_wanters'] + X['total_wishers'] + X['total_comments']\n",
        "# X['total_owners_plus_raters'] = X['total_owners'] + X['users_rated']\n",
        "# X['total_pos_interaction'] = X['total_owners'] + X['users_rated'] + X['total_comments']\n",
        "# X['total_neg_interaction'] = X['total_traders'] + X['total_comments']\n",
        "# X['hype'] = X['total_wanters'] + X['total_wishers'] + X['users_rated']\n",
        "# X['mean_playtime'] = (X['min_playtime'] + X['max_playtime']) / 2\n",
        "# X['new_game'] = X['year_published'] > 2010\n",
        "\n",
        "\n",
        "# # normalized_df=(df-df.mean())/df.std()\n",
        "\n",
        "# X['users_rated'] = (X['users_rated'] - X['users_rated'].mean()) / X['users_rated'].std()"
      ],
      "execution_count": 0,
      "outputs": []
    },
    {
      "cell_type": "code",
      "metadata": {
        "id": "ONGNN0JmDyYr",
        "colab_type": "code",
        "colab": {}
      },
      "source": [
        "# train/test/val split, train and test for both 0'less set and 0 set\n",
        "\n",
        "X_train, X_test, y_train, y_test = train_test_split(X, y, random_state=2019)\n",
        "X_train_old, X_test_old, y_train_old, y_test_old = train_test_split(X_old, y_old, random_state=2019)"
      ],
      "execution_count": 0,
      "outputs": []
    },
    {
      "cell_type": "code",
      "metadata": {
        "id": "fPnWX7kQMqCZ",
        "colab_type": "code",
        "colab": {
          "base_uri": "https://localhost:8080/",
          "height": 34
        },
        "outputId": "b6bc1422-ea16-4d30-8aa2-e70a3459171d"
      },
      "source": [
        "# train/test/val split, train and val for 0'less set\n",
        "X_train, X_val, y_train, y_val = train_test_split(X_train, y_train, random_state=2019)\n",
        "X_train.shape, y_train.shape, X_test.shape, y_test.shape, X_val.shape, y_val.shape"
      ],
      "execution_count": 19,
      "outputs": [
        {
          "output_type": "execute_result",
          "data": {
            "text/plain": [
              "((30994, 14), (30994,), (13776, 14), (13776,), (10332, 14), (10332,))"
            ]
          },
          "metadata": {
            "tags": []
          },
          "execution_count": 19
        }
      ]
    },
    {
      "cell_type": "code",
      "metadata": {
        "id": "dyM6FKM-DyYt",
        "colab_type": "code",
        "outputId": "dffddd71-a0be-4c8d-f969-b6e98adf8cb3",
        "colab": {
          "base_uri": "https://localhost:8080/",
          "height": 34
        }
      },
      "source": [
        "# train/test/val split for 0 set\n",
        "X_train_old, X_val_old, y_train_old, y_val_old = train_test_split(X_train_old, y_train_old, random_state=2019)\n",
        "X_train_old.shape, y_train_old.shape, X_test_old.shape, y_test_old.shape, X_val_old.shape, y_val_old.shape"
      ],
      "execution_count": 20,
      "outputs": [
        {
          "output_type": "execute_result",
          "data": {
            "text/plain": [
              "((44697, 14), (44697,), (19866, 14), (19866,), (14900, 14), (14900,))"
            ]
          },
          "metadata": {
            "tags": []
          },
          "execution_count": 20
        }
      ]
    },
    {
      "cell_type": "code",
      "metadata": {
        "id": "lUVRWUC9DyY4",
        "colab_type": "code",
        "colab": {}
      },
      "source": [
        "# quick and dirty baseline regressor\n",
        "# note it returns a list the same size as the input\n",
        "\n",
        "def baseline_Regressor(true, target):\n",
        "  from sklearn.metrics import mean_absolute_error, mean_squared_error, r2_score\n",
        "\n",
        "  # making a list of the same size as 'target' \n",
        "  # with the mean of the target as the only possible entree\n",
        "  mean_target = target.mean()\n",
        "  pred_baseline = [mean_target] * len(true)\n",
        "  \n",
        "  #calculating baseline error and score\n",
        "  mae = mean_absolute_error(true, pred_baseline)\n",
        "  mse = mean_squared_error(true, pred_baseline)\n",
        "  rmse = np.sqrt(mean_squared_error(true, pred_baseline))\n",
        "  r2 = r2_score(true, pred_baseline)\n",
        "  \n",
        "  # printing the errors and scores\n",
        "  return pred_baseline, mae, mse, rmse, r2"
      ],
      "execution_count": 0,
      "outputs": []
    },
    {
      "cell_type": "code",
      "metadata": {
        "id": "XEeoQi22DyY7",
        "colab_type": "code",
        "outputId": "52102af0-ebf6-4198-dd43-acb71d84ca64",
        "colab": {
          "base_uri": "https://localhost:8080/",
          "height": 84
        }
      },
      "source": [
        "# get a list of baseline predictions\n",
        "y_pred_base, mae_base, mse_base, rmse_base, r2_base = baseline_Regressor(y_val, y_train)\n",
        "\n",
        "print(\"Baseline MAE: \", mae_base)\n",
        "print(\"Baseline MSE: \", mse_base)\n",
        "print(\"Baseline RMSE: \", rmse_base)\n",
        "print(\"Baseline R2 Score: \", r2_base)"
      ],
      "execution_count": 9,
      "outputs": [
        {
          "output_type": "stream",
          "text": [
            "Baseline MAE:  1.2361119756518855\n",
            "Baseline MSE:  2.5345559673252773\n",
            "Baseline RMSE:  1.5920288839481769\n",
            "Baseline R2 Score:  -3.12084851592509e-05\n"
          ],
          "name": "stdout"
        }
      ]
    },
    {
      "cell_type": "code",
      "metadata": {
        "id": "dJ0XqOgHDyZC",
        "colab_type": "code",
        "colab": {}
      },
      "source": [
        "# Remember that eli5 doesn't play well with pipelines, so you need to make your\n",
        "# model outside of a pipeline.\n",
        "from sklearn.pipeline import make_pipeline\n",
        "from sklearn.impute import SimpleImputer\n",
        "from sklearn.ensemble import RandomForestRegressor\n",
        "from sklearn.impute import SimpleImputer\n",
        "\n",
        "# we make our imputer in a pipeline\n",
        "processor = make_pipeline(\n",
        "    SimpleImputer(strategy='median')\n",
        ")\n",
        "\n",
        "# we fit the processor onto the data\n",
        "X_train_processed = processor.fit_transform(X_train)\n",
        "X_val_processed = processor.transform(X_val)\n",
        "\n",
        "# we make our model outside the pipeline\n",
        "pipeline = RandomForestRegressor(\n",
        "        n_estimators=150,\n",
        "        max_depth=15,\n",
        "        min_samples_leaf=20,\n",
        "        random_state=2019,\n",
        "        n_jobs=-1\n",
        ")\n",
        "\n",
        "# and fit our model to our processed data\n",
        "pipeline.fit(X_train_processed, y_train);"
      ],
      "execution_count": 0,
      "outputs": []
    },
    {
      "cell_type": "code",
      "metadata": {
        "id": "bGxweonRNxjp",
        "colab_type": "code",
        "colab": {}
      },
      "source": [
        "# We do the same processing of data and fitting onto a model with  0 set\n",
        "\n",
        "# we make our imputer in a pipeline\n",
        "processor = make_pipeline(\n",
        "    SimpleImputer(strategy='median')\n",
        ")\n",
        "\n",
        "# we fit the processor onto the data\n",
        "X_train_old_processed = processor.fit_transform(X_train_old)\n",
        "X_val_old_processed = processor.transform(X_val_old)\n",
        "\n",
        "# we make our model outside the pipeline\n",
        "pipeline2 = RandomForestRegressor(\n",
        "        n_estimators=150,\n",
        "        max_depth=15,\n",
        "        min_samples_leaf=20,\n",
        "        random_state=2019,\n",
        "        n_jobs=-1\n",
        ")\n",
        "\n",
        "# and fit our model to our processed data\n",
        "pipeline2.fit(X_train_old_processed, \n",
        "              y_train_old);"
      ],
      "execution_count": 0,
      "outputs": []
    },
    {
      "cell_type": "code",
      "metadata": {
        "id": "yuQwS6unDyZM",
        "colab_type": "code",
        "colab": {}
      },
      "source": [
        "# RandomForest error function\n",
        "\n",
        "from sklearn.metrics import mean_absolute_error, mean_squared_error, r2_score\n",
        "\n",
        "def prediction_and_error(X_train_processed, y_train, pipeline, train_test_or_val):\n",
        "    kind = train_test_or_val\n",
        "\n",
        "    #make a prediction on the train set\n",
        "    y_pred = pipeline.predict(X_train_processed)\n",
        "\n",
        "    # MAE of train set\n",
        "    mae = mean_absolute_error(y_train, y_pred)\n",
        "    print(kind + ' MAE: ', mae)\n",
        "    \n",
        "    # MSE of train set\n",
        "    rmse = mean_squared_error(y_train, y_pred)\n",
        "    print(kind + ' MSE: ', rmse)\n",
        "    \n",
        "    # RMSE of train set\n",
        "    rmse = np.sqrt(mean_squared_error(y_train, y_pred))\n",
        "    print(kind + ' RMSE: ', rmse)\n",
        "\n",
        "    # R2 score of train set\n",
        "    r2 = r2_score(y_train, y_pred)\n",
        "    print(kind + ' R^2 Score: ', r2)\n",
        "    \n",
        "    return y_pred"
      ],
      "execution_count": 0,
      "outputs": []
    },
    {
      "cell_type": "code",
      "metadata": {
        "id": "l5lFDDf2DyZP",
        "colab_type": "code",
        "outputId": "839c94fa-c96d-4bd0-824c-b4f59379543b",
        "colab": {
          "base_uri": "https://localhost:8080/",
          "height": 101
        }
      },
      "source": [
        "# Print the Train error and R2 score of 0'less set\n",
        "print(\"Set with 0's removed\")\n",
        "\n",
        "y_pred = prediction_and_error(X_train_processed, y_train, pipeline, 'Train')"
      ],
      "execution_count": 29,
      "outputs": [
        {
          "output_type": "stream",
          "text": [
            "Set with 0's removed\n",
            "Train MAE:  0.812787487935968\n",
            "Train MSE:  1.2895384916984387\n",
            "Train RMSE:  1.1355784832843738\n",
            "Train R^2 Score:  0.4838003737793096\n"
          ],
          "name": "stdout"
        }
      ]
    },
    {
      "cell_type": "code",
      "metadata": {
        "scrolled": true,
        "id": "kOWTxThbDyZX",
        "colab_type": "code",
        "outputId": "7acd894d-4692-4044-ac7d-25e2fb47ee4c",
        "colab": {
          "base_uri": "https://localhost:8080/",
          "height": 101
        }
      },
      "source": [
        "# Print the Val error and R2 Score of 0'less set\n",
        "print(\"Set with 0's removed\")\n",
        "\n",
        "y_pred = prediction_and_error(X_val_processed, y_val, pipeline, 'Val')\n",
        "\n",
        "\n",
        "# For comparison here is the baseline error\n",
        "# Baseline on Val set\n",
        "# Baseline MAE:  1.2361119756518884\n",
        "# Baseline MSE:  2.5345559673252773\n",
        "# Baseline RMSE:  1.5920288839481769\n",
        "# Baseline R2 Score:  -3.1208485159028854e-05"
      ],
      "execution_count": 30,
      "outputs": [
        {
          "output_type": "stream",
          "text": [
            "Set with 0's removed\n",
            "Val MAE:  0.9005604799245981\n",
            "Val MSE:  1.5812322210706697\n",
            "Val RMSE:  1.2574705646935318\n",
            "Val R^2 Score:  0.3761110074828199\n"
          ],
          "name": "stdout"
        }
      ]
    },
    {
      "cell_type": "code",
      "metadata": {
        "id": "HqGvDjCAOWoF",
        "colab_type": "code",
        "colab": {
          "base_uri": "https://localhost:8080/",
          "height": 101
        },
        "outputId": "c9a17b02-bfff-4f7e-c74c-dff5d9c3fe65"
      },
      "source": [
        "# Print the Train error and R2 score of 0 set\n",
        "print(\"Set with 0's left in\")\n",
        "y_pred_old = prediction_and_error(X_train_old_processed, y_train_old, pipeline2, 'Train')"
      ],
      "execution_count": 27,
      "outputs": [
        {
          "output_type": "stream",
          "text": [
            "Set with 0's left in\n",
            "Train MAE:  0.5695378448368745\n",
            "Train MSE:  0.9194754225655233\n",
            "Train RMSE:  0.9588928107799762\n",
            "Train R^2 Score:  0.9018608454756069\n"
          ],
          "name": "stdout"
        }
      ]
    },
    {
      "cell_type": "code",
      "metadata": {
        "id": "hFitaX8iOXBH",
        "colab_type": "code",
        "colab": {
          "base_uri": "https://localhost:8080/",
          "height": 101
        },
        "outputId": "42528223-4e0c-4018-a1e7-26c5fd06d300"
      },
      "source": [
        "# Print the Val error and R2 Score of 0 set\n",
        "print(\"Set with 0's left in\")\n",
        "y_pred_old = prediction_and_error(X_val_old_processed, y_val_old, pipeline2, 'Val')"
      ],
      "execution_count": 28,
      "outputs": [
        {
          "output_type": "stream",
          "text": [
            "Set with 0's left in\n",
            "Val MAE:  0.6200689655100977\n",
            "Val MSE:  1.058363634461102\n",
            "Val RMSE:  1.0287680178062992\n",
            "Val R^2 Score:  0.8862730132407871\n"
          ],
          "name": "stdout"
        }
      ]
    },
    {
      "cell_type": "code",
      "metadata": {
        "id": "7ZHWxJ65QgHt",
        "colab_type": "code",
        "colab": {}
      },
      "source": [
        "# Leaving those 0's in the data gives us a lot more accuracy and a much higher R2 score than \n",
        "# we really ought to be getting. all because 30% of our dataframe \n",
        "# has zeroes in users_rated if and only if the set has a zero in average_rating, so\n",
        "# of course the model is going to pick up on that and use it!"
      ],
      "execution_count": 0,
      "outputs": []
    },
    {
      "cell_type": "code",
      "metadata": {
        "id": "88iVppvcDyZc",
        "colab_type": "code",
        "outputId": "14391be4-0a27-45be-f13c-f82eef6babd8",
        "colab": {
          "base_uri": "https://localhost:8080/",
          "height": 238
        }
      },
      "source": [
        "# installing eli5 to make permutation tables\n",
        "!pip install eli5\n",
        "\n",
        "import eli5\n",
        "from eli5.sklearn import PermutationImportance"
      ],
      "execution_count": 31,
      "outputs": [
        {
          "output_type": "stream",
          "text": [
            "Requirement already satisfied: eli5 in /usr/local/lib/python3.6/dist-packages (0.10.1)\n",
            "Requirement already satisfied: numpy>=1.9.0 in /usr/local/lib/python3.6/dist-packages (from eli5) (1.17.3)\n",
            "Requirement already satisfied: graphviz in /usr/local/lib/python3.6/dist-packages (from eli5) (0.10.1)\n",
            "Requirement already satisfied: six in /usr/local/lib/python3.6/dist-packages (from eli5) (1.12.0)\n",
            "Requirement already satisfied: jinja2 in /usr/local/lib/python3.6/dist-packages (from eli5) (2.10.3)\n",
            "Requirement already satisfied: scikit-learn>=0.18 in /usr/local/lib/python3.6/dist-packages (from eli5) (0.21.3)\n",
            "Requirement already satisfied: attrs>16.0.0 in /usr/local/lib/python3.6/dist-packages (from eli5) (19.3.0)\n",
            "Requirement already satisfied: scipy in /usr/local/lib/python3.6/dist-packages (from eli5) (1.3.1)\n",
            "Requirement already satisfied: tabulate>=0.7.7 in /usr/local/lib/python3.6/dist-packages (from eli5) (0.8.5)\n",
            "Requirement already satisfied: MarkupSafe>=0.23 in /usr/local/lib/python3.6/dist-packages (from jinja2->eli5) (1.1.1)\n",
            "Requirement already satisfied: joblib>=0.11 in /usr/local/lib/python3.6/dist-packages (from scikit-learn>=0.18->eli5) (0.14.0)\n"
          ],
          "name": "stdout"
        },
        {
          "output_type": "stream",
          "text": [
            "Using TensorFlow backend.\n"
          ],
          "name": "stderr"
        }
      ]
    },
    {
      "cell_type": "code",
      "metadata": {
        "id": "761YDTOGRWyM",
        "colab_type": "code",
        "colab": {}
      },
      "source": [
        "# we create a permutation table\n",
        "\n",
        "# See how defining an eli5 permuter takes a model but no data? that's\n",
        "# why your data encoders could be used in a pipeline, but your model couldn't;\n",
        "# the model needs to get passed in at definition. The data does not. \n",
        "\n",
        "# we create the permuter\n",
        "permuter = PermutationImportance(\n",
        "    pipeline,\n",
        "    scoring='neg_mean_absolute_error',\n",
        "    n_iter=5,\n",
        "    random_state=2019\n",
        ")\n",
        "\n",
        "# Now the data for the 0'less set gets passed in.\n",
        "permuter.fit(X_val_processed, y_val);\n",
        "\n",
        "\n",
        "\n",
        "\n",
        "# Now we do the same for the 0 set\n",
        "\n",
        "# create the permuter\n",
        "permuter2 = PermutationImportance(\n",
        "    pipeline2,\n",
        "    scoring='neg_mean_absolute_error',\n",
        "    n_iter=5,\n",
        "    random_state=2019\n",
        ")\n",
        "# fit the permuter onto the data\n",
        "permuter2.fit(X_val_old_processed, y_val_old);"
      ],
      "execution_count": 0,
      "outputs": []
    },
    {
      "cell_type": "code",
      "metadata": {
        "id": "wxC7gsKRDyZi",
        "colab_type": "code",
        "outputId": "d05547f3-8c46-491d-93d7-1abefb7db18a",
        "colab": {
          "base_uri": "https://localhost:8080/",
          "height": 269
        }
      },
      "source": [
        "# Permutation Table of 0'less set\n",
        "\n",
        "feature_names = X_val.columns.tolist()\n",
        "pd.Series(permuter.feature_importances_, feature_names).sort_values(ascending=False)\n",
        "\n",
        "eli5.show_weights(\n",
        "    permuter, \n",
        "    top=None,\n",
        "    feature_names=feature_names\n",
        ")"
      ],
      "execution_count": 37,
      "outputs": [
        {
          "output_type": "execute_result",
          "data": {
            "text/html": [
              "\n",
              "    <style>\n",
              "    table.eli5-weights tr:hover {\n",
              "        filter: brightness(85%);\n",
              "    }\n",
              "</style>\n",
              "\n",
              "\n",
              "\n",
              "    \n",
              "\n",
              "    \n",
              "\n",
              "    \n",
              "\n",
              "    \n",
              "\n",
              "    \n",
              "\n",
              "    \n",
              "\n",
              "\n",
              "    \n",
              "\n",
              "    \n",
              "\n",
              "    \n",
              "\n",
              "    \n",
              "\n",
              "    \n",
              "\n",
              "    \n",
              "\n",
              "\n",
              "    \n",
              "\n",
              "    \n",
              "\n",
              "    \n",
              "\n",
              "    \n",
              "\n",
              "    \n",
              "        <table class=\"eli5-weights eli5-feature-importances\" style=\"border-collapse: collapse; border: none; margin-top: 0em; table-layout: auto;\">\n",
              "    <thead>\n",
              "    <tr style=\"border: none;\">\n",
              "        <th style=\"padding: 0 1em 0 0.5em; text-align: right; border: none;\">Weight</th>\n",
              "        <th style=\"padding: 0 0.5em 0 0.5em; text-align: left; border: none;\">Feature</th>\n",
              "    </tr>\n",
              "    </thead>\n",
              "    <tbody>\n",
              "    \n",
              "        <tr style=\"background-color: hsl(120, 100.00%, 80.00%); border: none;\">\n",
              "            <td style=\"padding: 0 1em 0 0.5em; text-align: right; border: none;\">\n",
              "                0.1514\n",
              "                \n",
              "                    &plusmn; 0.0082\n",
              "                \n",
              "            </td>\n",
              "            <td style=\"padding: 0 0.5em 0 0.5em; text-align: left; border: none;\">\n",
              "                year_published\n",
              "            </td>\n",
              "        </tr>\n",
              "    \n",
              "        <tr style=\"background-color: hsl(120, 100.00%, 80.39%); border: none;\">\n",
              "            <td style=\"padding: 0 1em 0 0.5em; text-align: right; border: none;\">\n",
              "                0.1472\n",
              "                \n",
              "                    &plusmn; 0.0089\n",
              "                \n",
              "            </td>\n",
              "            <td style=\"padding: 0 0.5em 0 0.5em; text-align: left; border: none;\">\n",
              "                total_wishers\n",
              "            </td>\n",
              "        </tr>\n",
              "    \n",
              "        <tr style=\"background-color: hsl(120, 100.00%, 85.06%); border: none;\">\n",
              "            <td style=\"padding: 0 1em 0 0.5em; text-align: right; border: none;\">\n",
              "                0.0999\n",
              "                \n",
              "                    &plusmn; 0.0029\n",
              "                \n",
              "            </td>\n",
              "            <td style=\"padding: 0 0.5em 0 0.5em; text-align: left; border: none;\">\n",
              "                average_weight\n",
              "            </td>\n",
              "        </tr>\n",
              "    \n",
              "        <tr style=\"background-color: hsl(120, 100.00%, 88.24%); border: none;\">\n",
              "            <td style=\"padding: 0 1em 0 0.5em; text-align: right; border: none;\">\n",
              "                0.0709\n",
              "                \n",
              "                    &plusmn; 0.0030\n",
              "                \n",
              "            </td>\n",
              "            <td style=\"padding: 0 0.5em 0 0.5em; text-align: left; border: none;\">\n",
              "                total_wanters\n",
              "            </td>\n",
              "        </tr>\n",
              "    \n",
              "        <tr style=\"background-color: hsl(120, 100.00%, 90.30%); border: none;\">\n",
              "            <td style=\"padding: 0 1em 0 0.5em; text-align: right; border: none;\">\n",
              "                0.0538\n",
              "                \n",
              "                    &plusmn; 0.0042\n",
              "                \n",
              "            </td>\n",
              "            <td style=\"padding: 0 0.5em 0 0.5em; text-align: left; border: none;\">\n",
              "                total_traders\n",
              "            </td>\n",
              "        </tr>\n",
              "    \n",
              "        <tr style=\"background-color: hsl(120, 100.00%, 93.63%); border: none;\">\n",
              "            <td style=\"padding: 0 1em 0 0.5em; text-align: right; border: none;\">\n",
              "                0.0296\n",
              "                \n",
              "                    &plusmn; 0.0041\n",
              "                \n",
              "            </td>\n",
              "            <td style=\"padding: 0 0.5em 0 0.5em; text-align: left; border: none;\">\n",
              "                total_owners\n",
              "            </td>\n",
              "        </tr>\n",
              "    \n",
              "        <tr style=\"background-color: hsl(120, 100.00%, 96.26%); border: none;\">\n",
              "            <td style=\"padding: 0 1em 0 0.5em; text-align: right; border: none;\">\n",
              "                0.0138\n",
              "                \n",
              "                    &plusmn; 0.0017\n",
              "                \n",
              "            </td>\n",
              "            <td style=\"padding: 0 0.5em 0 0.5em; text-align: left; border: none;\">\n",
              "                min_age\n",
              "            </td>\n",
              "        </tr>\n",
              "    \n",
              "        <tr style=\"background-color: hsl(120, 100.00%, 96.34%); border: none;\">\n",
              "            <td style=\"padding: 0 1em 0 0.5em; text-align: right; border: none;\">\n",
              "                0.0134\n",
              "                \n",
              "                    &plusmn; 0.0025\n",
              "                \n",
              "            </td>\n",
              "            <td style=\"padding: 0 0.5em 0 0.5em; text-align: left; border: none;\">\n",
              "                max_players\n",
              "            </td>\n",
              "        </tr>\n",
              "    \n",
              "        <tr style=\"background-color: hsl(120, 100.00%, 97.01%); border: none;\">\n",
              "            <td style=\"padding: 0 1em 0 0.5em; text-align: right; border: none;\">\n",
              "                0.0100\n",
              "                \n",
              "                    &plusmn; 0.0018\n",
              "                \n",
              "            </td>\n",
              "            <td style=\"padding: 0 0.5em 0 0.5em; text-align: left; border: none;\">\n",
              "                max_playtime\n",
              "            </td>\n",
              "        </tr>\n",
              "    \n",
              "        <tr style=\"background-color: hsl(120, 100.00%, 97.23%); border: none;\">\n",
              "            <td style=\"padding: 0 1em 0 0.5em; text-align: right; border: none;\">\n",
              "                0.0090\n",
              "                \n",
              "                    &plusmn; 0.0011\n",
              "                \n",
              "            </td>\n",
              "            <td style=\"padding: 0 0.5em 0 0.5em; text-align: left; border: none;\">\n",
              "                total_comments\n",
              "            </td>\n",
              "        </tr>\n",
              "    \n",
              "        <tr style=\"background-color: hsl(120, 100.00%, 97.39%); border: none;\">\n",
              "            <td style=\"padding: 0 1em 0 0.5em; text-align: right; border: none;\">\n",
              "                0.0083\n",
              "                \n",
              "                    &plusmn; 0.0016\n",
              "                \n",
              "            </td>\n",
              "            <td style=\"padding: 0 0.5em 0 0.5em; text-align: left; border: none;\">\n",
              "                users_rated\n",
              "            </td>\n",
              "        </tr>\n",
              "    \n",
              "        <tr style=\"background-color: hsl(120, 100.00%, 97.75%); border: none;\">\n",
              "            <td style=\"padding: 0 1em 0 0.5em; text-align: right; border: none;\">\n",
              "                0.0067\n",
              "                \n",
              "                    &plusmn; 0.0012\n",
              "                \n",
              "            </td>\n",
              "            <td style=\"padding: 0 0.5em 0 0.5em; text-align: left; border: none;\">\n",
              "                total_weights\n",
              "            </td>\n",
              "        </tr>\n",
              "    \n",
              "        <tr style=\"background-color: hsl(120, 100.00%, 98.25%); border: none;\">\n",
              "            <td style=\"padding: 0 1em 0 0.5em; text-align: right; border: none;\">\n",
              "                0.0047\n",
              "                \n",
              "                    &plusmn; 0.0010\n",
              "                \n",
              "            </td>\n",
              "            <td style=\"padding: 0 0.5em 0 0.5em; text-align: left; border: none;\">\n",
              "                min_playtime\n",
              "            </td>\n",
              "        </tr>\n",
              "    \n",
              "        <tr style=\"background-color: hsl(120, 100.00%, 98.66%); border: none;\">\n",
              "            <td style=\"padding: 0 1em 0 0.5em; text-align: right; border: none;\">\n",
              "                0.0032\n",
              "                \n",
              "                    &plusmn; 0.0008\n",
              "                \n",
              "            </td>\n",
              "            <td style=\"padding: 0 0.5em 0 0.5em; text-align: left; border: none;\">\n",
              "                min_players\n",
              "            </td>\n",
              "        </tr>\n",
              "    \n",
              "    \n",
              "    </tbody>\n",
              "</table>\n",
              "    \n",
              "\n",
              "    \n",
              "\n",
              "\n",
              "    \n",
              "\n",
              "    \n",
              "\n",
              "    \n",
              "\n",
              "    \n",
              "\n",
              "    \n",
              "\n",
              "    \n",
              "\n",
              "\n",
              "\n"
            ],
            "text/plain": [
              "<IPython.core.display.HTML object>"
            ]
          },
          "metadata": {
            "tags": []
          },
          "execution_count": 37
        }
      ]
    },
    {
      "cell_type": "code",
      "metadata": {
        "id": "U2leDnyRTL4B",
        "colab_type": "code",
        "colab": {}
      },
      "source": [
        "# this table tells us what we expect to be true, things like a game being new or desired by a bunch of people\n",
        "# tends to be a good indicator of how high or low it's rating is going to be"
      ],
      "execution_count": 0,
      "outputs": []
    },
    {
      "cell_type": "code",
      "metadata": {
        "id": "lQj4evioNVLa",
        "colab_type": "code",
        "colab": {
          "base_uri": "https://localhost:8080/",
          "height": 269
        },
        "outputId": "95bd0825-04b1-4055-85e3-fa91c09a7f26"
      },
      "source": [
        "# Permutation Table of 0 set\n",
        "\n",
        "feature_names = X_val.columns.tolist()\n",
        "pd.Series(permuter2.feature_importances_, feature_names).sort_values(ascending=False)\n",
        "\n",
        "eli5.show_weights(\n",
        "    permuter2, \n",
        "    top=None,\n",
        "    feature_names=feature_names\n",
        ")"
      ],
      "execution_count": 38,
      "outputs": [
        {
          "output_type": "execute_result",
          "data": {
            "text/html": [
              "\n",
              "    <style>\n",
              "    table.eli5-weights tr:hover {\n",
              "        filter: brightness(85%);\n",
              "    }\n",
              "</style>\n",
              "\n",
              "\n",
              "\n",
              "    \n",
              "\n",
              "    \n",
              "\n",
              "    \n",
              "\n",
              "    \n",
              "\n",
              "    \n",
              "\n",
              "    \n",
              "\n",
              "\n",
              "    \n",
              "\n",
              "    \n",
              "\n",
              "    \n",
              "\n",
              "    \n",
              "\n",
              "    \n",
              "\n",
              "    \n",
              "\n",
              "\n",
              "    \n",
              "\n",
              "    \n",
              "\n",
              "    \n",
              "\n",
              "    \n",
              "\n",
              "    \n",
              "        <table class=\"eli5-weights eli5-feature-importances\" style=\"border-collapse: collapse; border: none; margin-top: 0em; table-layout: auto;\">\n",
              "    <thead>\n",
              "    <tr style=\"border: none;\">\n",
              "        <th style=\"padding: 0 1em 0 0.5em; text-align: right; border: none;\">Weight</th>\n",
              "        <th style=\"padding: 0 0.5em 0 0.5em; text-align: left; border: none;\">Feature</th>\n",
              "    </tr>\n",
              "    </thead>\n",
              "    <tbody>\n",
              "    \n",
              "        <tr style=\"background-color: hsl(120, 100.00%, 80.00%); border: none;\">\n",
              "            <td style=\"padding: 0 1em 0 0.5em; text-align: right; border: none;\">\n",
              "                2.1376\n",
              "                \n",
              "                    &plusmn; 0.0416\n",
              "                \n",
              "            </td>\n",
              "            <td style=\"padding: 0 0.5em 0 0.5em; text-align: left; border: none;\">\n",
              "                users_rated\n",
              "            </td>\n",
              "        </tr>\n",
              "    \n",
              "        <tr style=\"background-color: hsl(120, 100.00%, 97.55%); border: none;\">\n",
              "            <td style=\"padding: 0 1em 0 0.5em; text-align: right; border: none;\">\n",
              "                0.1062\n",
              "                \n",
              "                    &plusmn; 0.0071\n",
              "                \n",
              "            </td>\n",
              "            <td style=\"padding: 0 0.5em 0 0.5em; text-align: left; border: none;\">\n",
              "                total_wishers\n",
              "            </td>\n",
              "        </tr>\n",
              "    \n",
              "        <tr style=\"background-color: hsl(120, 100.00%, 97.61%); border: none;\">\n",
              "            <td style=\"padding: 0 1em 0 0.5em; text-align: right; border: none;\">\n",
              "                0.1031\n",
              "                \n",
              "                    &plusmn; 0.0035\n",
              "                \n",
              "            </td>\n",
              "            <td style=\"padding: 0 0.5em 0 0.5em; text-align: left; border: none;\">\n",
              "                year_published\n",
              "            </td>\n",
              "        </tr>\n",
              "    \n",
              "        <tr style=\"background-color: hsl(120, 100.00%, 98.34%); border: none;\">\n",
              "            <td style=\"padding: 0 1em 0 0.5em; text-align: right; border: none;\">\n",
              "                0.0612\n",
              "                \n",
              "                    &plusmn; 0.0024\n",
              "                \n",
              "            </td>\n",
              "            <td style=\"padding: 0 0.5em 0 0.5em; text-align: left; border: none;\">\n",
              "                average_weight\n",
              "            </td>\n",
              "        </tr>\n",
              "    \n",
              "        <tr style=\"background-color: hsl(120, 100.00%, 98.56%); border: none;\">\n",
              "            <td style=\"padding: 0 1em 0 0.5em; text-align: right; border: none;\">\n",
              "                0.0499\n",
              "                \n",
              "                    &plusmn; 0.0027\n",
              "                \n",
              "            </td>\n",
              "            <td style=\"padding: 0 0.5em 0 0.5em; text-align: left; border: none;\">\n",
              "                total_wanters\n",
              "            </td>\n",
              "        </tr>\n",
              "    \n",
              "        <tr style=\"background-color: hsl(120, 100.00%, 98.84%); border: none;\">\n",
              "            <td style=\"padding: 0 1em 0 0.5em; text-align: right; border: none;\">\n",
              "                0.0366\n",
              "                \n",
              "                    &plusmn; 0.0012\n",
              "                \n",
              "            </td>\n",
              "            <td style=\"padding: 0 0.5em 0 0.5em; text-align: left; border: none;\">\n",
              "                total_traders\n",
              "            </td>\n",
              "        </tr>\n",
              "    \n",
              "        <tr style=\"background-color: hsl(120, 100.00%, 99.13%); border: none;\">\n",
              "            <td style=\"padding: 0 1em 0 0.5em; text-align: right; border: none;\">\n",
              "                0.0242\n",
              "                \n",
              "                    &plusmn; 0.0019\n",
              "                \n",
              "            </td>\n",
              "            <td style=\"padding: 0 0.5em 0 0.5em; text-align: left; border: none;\">\n",
              "                total_owners\n",
              "            </td>\n",
              "        </tr>\n",
              "    \n",
              "        <tr style=\"background-color: hsl(120, 100.00%, 99.50%); border: none;\">\n",
              "            <td style=\"padding: 0 1em 0 0.5em; text-align: right; border: none;\">\n",
              "                0.0109\n",
              "                \n",
              "                    &plusmn; 0.0015\n",
              "                \n",
              "            </td>\n",
              "            <td style=\"padding: 0 0.5em 0 0.5em; text-align: left; border: none;\">\n",
              "                min_age\n",
              "            </td>\n",
              "        </tr>\n",
              "    \n",
              "        <tr style=\"background-color: hsl(120, 100.00%, 99.59%); border: none;\">\n",
              "            <td style=\"padding: 0 1em 0 0.5em; text-align: right; border: none;\">\n",
              "                0.0082\n",
              "                \n",
              "                    &plusmn; 0.0013\n",
              "                \n",
              "            </td>\n",
              "            <td style=\"padding: 0 0.5em 0 0.5em; text-align: left; border: none;\">\n",
              "                max_players\n",
              "            </td>\n",
              "        </tr>\n",
              "    \n",
              "        <tr style=\"background-color: hsl(120, 100.00%, 99.65%); border: none;\">\n",
              "            <td style=\"padding: 0 1em 0 0.5em; text-align: right; border: none;\">\n",
              "                0.0067\n",
              "                \n",
              "                    &plusmn; 0.0010\n",
              "                \n",
              "            </td>\n",
              "            <td style=\"padding: 0 0.5em 0 0.5em; text-align: left; border: none;\">\n",
              "                max_playtime\n",
              "            </td>\n",
              "        </tr>\n",
              "    \n",
              "        <tr style=\"background-color: hsl(120, 100.00%, 99.65%); border: none;\">\n",
              "            <td style=\"padding: 0 1em 0 0.5em; text-align: right; border: none;\">\n",
              "                0.0066\n",
              "                \n",
              "                    &plusmn; 0.0015\n",
              "                \n",
              "            </td>\n",
              "            <td style=\"padding: 0 0.5em 0 0.5em; text-align: left; border: none;\">\n",
              "                total_comments\n",
              "            </td>\n",
              "        </tr>\n",
              "    \n",
              "        <tr style=\"background-color: hsl(120, 100.00%, 99.69%); border: none;\">\n",
              "            <td style=\"padding: 0 1em 0 0.5em; text-align: right; border: none;\">\n",
              "                0.0056\n",
              "                \n",
              "                    &plusmn; 0.0007\n",
              "                \n",
              "            </td>\n",
              "            <td style=\"padding: 0 0.5em 0 0.5em; text-align: left; border: none;\">\n",
              "                total_weights\n",
              "            </td>\n",
              "        </tr>\n",
              "    \n",
              "        <tr style=\"background-color: hsl(120, 100.00%, 99.80%); border: none;\">\n",
              "            <td style=\"padding: 0 1em 0 0.5em; text-align: right; border: none;\">\n",
              "                0.0031\n",
              "                \n",
              "                    &plusmn; 0.0012\n",
              "                \n",
              "            </td>\n",
              "            <td style=\"padding: 0 0.5em 0 0.5em; text-align: left; border: none;\">\n",
              "                min_playtime\n",
              "            </td>\n",
              "        </tr>\n",
              "    \n",
              "        <tr style=\"background-color: hsl(120, 100.00%, 99.89%); border: none;\">\n",
              "            <td style=\"padding: 0 1em 0 0.5em; text-align: right; border: none;\">\n",
              "                0.0013\n",
              "                \n",
              "                    &plusmn; 0.0004\n",
              "                \n",
              "            </td>\n",
              "            <td style=\"padding: 0 0.5em 0 0.5em; text-align: left; border: none;\">\n",
              "                min_players\n",
              "            </td>\n",
              "        </tr>\n",
              "    \n",
              "    \n",
              "    </tbody>\n",
              "</table>\n",
              "    \n",
              "\n",
              "    \n",
              "\n",
              "\n",
              "    \n",
              "\n",
              "    \n",
              "\n",
              "    \n",
              "\n",
              "    \n",
              "\n",
              "    \n",
              "\n",
              "    \n",
              "\n",
              "\n",
              "\n"
            ],
            "text/plain": [
              "<IPython.core.display.HTML object>"
            ]
          },
          "metadata": {
            "tags": []
          },
          "execution_count": 38
        }
      ]
    },
    {
      "cell_type": "code",
      "metadata": {
        "id": "v9W2O-ItTbhO",
        "colab_type": "code",
        "colab": {}
      },
      "source": [
        "# This table is completely misleading because of the free 30% increase in accuracy\n",
        "# the model gets just from all the 0's in the dataset. This can lead us to believe\n",
        "# that the total number of ratings isn't just the most influential column, but the most\n",
        "# influential by a huge margin."
      ],
      "execution_count": 0,
      "outputs": []
    },
    {
      "cell_type": "code",
      "metadata": {
        "id": "e7Gtca0iDyZl",
        "colab_type": "code",
        "outputId": "35c24096-7d6b-448d-8470-fcb87f9bb513",
        "colab": {
          "base_uri": "https://localhost:8080/",
          "height": 311
        }
      },
      "source": [
        "# Now we show why this change is so radical with plots\n",
        "\n",
        "#we create the plot figure\n",
        "fig, (ax1, ax2) = plt.subplots(ncols=2, sharey=False, figsize=(12, 4))\n",
        "ax1.set_facecolor('dimgray')\n",
        "ax2.set_facecolor('lightcyan')\n",
        "\n",
        "# Scatter Plot of the true average rating vs users_rated in val set\n",
        "sns.regplot(X_val['users_rated'], y_val, \n",
        "            fit_reg = False, \n",
        "            scatter_kws={'color': 'cyan', \n",
        "                         's': .5}, \n",
        "            ax=ax1);\n",
        "\n",
        "# Scatter Plot of the Predicted average rating vs users_rated in val set\n",
        "sns.regplot(X_val['users_rated'], y_pred, \n",
        "            fit_reg = False, \n",
        "            scatter_kws={'color':'black', \n",
        "                         's': .5}, \n",
        "            ax=ax2);\n",
        "\n",
        "ax1.set(title = \"Game's average rating vs. \\n the game's total number of ratings\",\n",
        "        ylabel='true ratings', \n",
        "        xlim=(-1_500, 50_000),\n",
        "        ylim=(-0.5, 10.5)\n",
        "       )\n",
        "ax2.set(title=\"Model's predicted average rating of a game vs. \\n the game's total number of ratings\",\n",
        "        ylabel='predicted ratings',\n",
        "        xlim=(-1_500, 50_000),\n",
        "        ylim=(-0.5, 10.5)\n",
        "       )\n",
        "plt.show()"
      ],
      "execution_count": 39,
      "outputs": [
        {
          "output_type": "display_data",
          "data": {
            "image/png": "[encoded data removed]",
            "text/plain": [
              "<Figure size 864x288 with 2 Axes>"
            ]
          },
          "metadata": {
            "tags": []
          }
        }
      ]
    },
    {
      "cell_type": "code",
      "metadata": {
        "id": "CB530TgtDyZn",
        "colab_type": "code",
        "outputId": "f5928aaf-5bc2-485a-e7b9-5bbf7a766053",
        "colab": {
          "base_uri": "https://localhost:8080/",
          "height": 311
        }
      },
      "source": [
        "# we create the plot figure\n",
        "fig, (ax1, ax2) = plt.subplots(ncols=2, sharey=False, figsize=(12, 4))\n",
        "ax1.set_facecolor('dimgray')\n",
        "ax2.set_facecolor('lightcyan')\n",
        "\n",
        "# Zoom in on True val vs users\n",
        "sns.regplot(X_val_old['users_rated'], y_val_old, \n",
        "            fit_reg = False, \n",
        "            scatter_kws={'color': 'cyan', \n",
        "                         's': .5}, \n",
        "            ax=ax1);\n",
        "\n",
        "# Zoom in on Pred val vs users\n",
        "sns.regplot(X_val_old['users_rated'], y_pred_old, \n",
        "            fit_reg = False, \n",
        "            scatter_kws={'color': 'black',\n",
        "                         's': .5}, \n",
        "            ax=ax2);\n",
        "\n",
        "ax1.set(title = \"Game's average rating vs. \\n the game's total number of ratings\",\n",
        "        ylabel='true ratings', \n",
        "        xlim=(-1_500, 50_000),\n",
        "        ylim=(-0.5, 10.5)\n",
        "       )\n",
        "ax2.set(title=\"Model's predicted average rating of a game vs. \\n the game's total number of ratings\",\n",
        "        ylabel='predicted ratings',\n",
        "        xlim=(-1_500, 50_000),\n",
        "        ylim=(-0.5, 10.5)\n",
        "       )\n",
        "plt.show()"
      ],
      "execution_count": 41,
      "outputs": [
        {
          "output_type": "display_data",
          "data": {
            "image/png": "[encoded data removed]",
            "text/plain": [
              "<Figure size 864x288 with 2 Axes>"
            ]
          },
          "metadata": {
            "tags": []
          }
        }
      ]
    },
    {
      "cell_type": "code",
      "metadata": {
        "id": "bQAZWz4jR3XQ",
        "colab_type": "code",
        "colab": {}
      },
      "source": [
        "# In general scatter plots do a terrible job of helping us see this problem because they\n",
        "# measure the number of unique entrees. But if we have the same value over and over and over\n",
        "# again, the scatter plot is blind to that.\n",
        "\n",
        "# all 20_000 or so of those games with an average rating of zero (30% of our data) gets \n",
        "# slammed into ONE dot at 0,0."
      ],
      "execution_count": 0,
      "outputs": []
    },
    {
      "cell_type": "code",
      "metadata": {
        "id": "JcL6SBN4DyZq",
        "colab_type": "code",
        "outputId": "fc6f0db6-2b1b-4978-f385-a4a63592b3fc",
        "colab": {
          "base_uri": "https://localhost:8080/",
          "height": 280
        }
      },
      "source": [
        "# When we explore with histograms, the issue becomes obvious very fast.\n",
        "\n",
        "# histogram of average ratings\n",
        "sns.distplot(df_old['average_rating']);"
      ],
      "execution_count": 0,
      "outputs": [
        {
          "output_type": "display_data",
          "data": {
            "image/png": "[encoded data removed]",
            "text/plain": [
              "<Figure size 432x288 with 1 Axes>"
            ]
          },
          "metadata": {
            "tags": []
          }
        }
      ]
    },
    {
      "cell_type": "code",
      "metadata": {
        "id": "W522L2rGDyZs",
        "colab_type": "code",
        "outputId": "71dfb13c-3823-4c98-a979-bcf6a629c4e2",
        "colab": {
          "base_uri": "https://localhost:8080/",
          "height": 280
        }
      },
      "source": [
        "# histogram of number of ratings\n",
        "\n",
        "sns.distplot(df_old['users_rated']);"
      ],
      "execution_count": 0,
      "outputs": [
        {
          "output_type": "display_data",
          "data": {
            "image/png": "[encoded data removed]",
            "text/plain": [
              "<Figure size 432x288 with 1 Axes>"
            ]
          },
          "metadata": {
            "tags": []
          }
        }
      ]
    },
    {
      "cell_type": "code",
      "metadata": {
        "id": "v0Dl3BR4DyZ3",
        "colab_type": "code",
        "outputId": "dac8ea1f-595b-4deb-dc3c-0cda80d714e8",
        "colab": {
          "base_uri": "https://localhost:8080/",
          "height": 280
        }
      },
      "source": [
        "# average ratings excluding zeroes\n",
        "\n",
        "fig, ax = plt.subplots()\n",
        "\n",
        "sns.distplot(y_train, ax=ax)\n",
        "ax.set(xticks=range(0,11,1))\n",
        "plt.show()"
      ],
      "execution_count": 0,
      "outputs": [
        {
          "output_type": "display_data",
          "data": {
            "image/png": "[encoded data removed]",
            "text/plain": [
              "<Figure size 432x288 with 1 Axes>"
            ]
          },
          "metadata": {
            "tags": []
          }
        }
      ]
    },
    {
      "cell_type": "code",
      "metadata": {
        "id": "eeZP7ewESolW",
        "colab_type": "code",
        "colab": {}
      },
      "source": [
        "# Now we can actually see some nuance to the ratings, as opposed to being dominated by zeroes."
      ],
      "execution_count": 0,
      "outputs": []
    },
    {
      "cell_type": "code",
      "metadata": {
        "id": "Ld6yY0o2DyaG",
        "colab_type": "code",
        "outputId": "48c5e83b-c0e5-4769-b004-b8c68b90b800",
        "colab": {
          "base_uri": "https://localhost:8080/",
          "height": 280
        }
      },
      "source": [
        "# number of ratings excluding zeroes\n",
        "\n",
        "fig, ax = plt.subplots()\n",
        "\n",
        "sns.distplot(X_train['users_rated'], ax=ax)\n",
        "plt.show()"
      ],
      "execution_count": 0,
      "outputs": [
        {
          "output_type": "display_data",
          "data": {
            "image/png": "[encoded data removed]",
            "text/plain": [
              "<Figure size 432x288 with 1 Axes>"
            ]
          },
          "metadata": {
            "tags": []
          }
        }
      ]
    },
    {
      "cell_type": "code",
      "metadata": {
        "id": "f4an_BZVStlm",
        "colab_type": "code",
        "colab": {}
      },
      "source": [
        "# This one didn't do much but that's because the spread of users_rated is a lot \n",
        "# bigger than that of average_rating"
      ],
      "execution_count": 0,
      "outputs": []
    }
  ]
}