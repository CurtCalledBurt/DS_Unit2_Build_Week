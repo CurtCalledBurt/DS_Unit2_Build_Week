{
  "nbformat": 4,
  "nbformat_minor": 0,
  "metadata": {
    "kernelspec": {
      "display_name": "Python 3",
      "language": "python",
      "name": "python3"
    },
    "language_info": {
      "codemirror_mode": {
        "name": "ipython",
        "version": 3
      },
      "file_extension": ".py",
      "mimetype": "text/x-python",
      "name": "python",
      "nbconvert_exporter": "python",
      "pygments_lexer": "ipython3",
      "version": "3.7.4"
    },
    "colab": {
      "name": "Project 2 Day 8 - Final.ipynb",
      "provenance": [],
      "include_colab_link": true
    }
  },
  "cells": [
    {
      "cell_type": "markdown",
      "metadata": {
        "id": "view-in-github",
        "colab_type": "text"
      },
      "source": [
        "<a href=\"https://colab.research.google.com/github/CurtCalledBurt/DS_Unit2_Build_Week/blob/master/Project_2_Day_8_Final.ipynb\" target=\"_parent\"><img src=\"https://colab.research.google.com/assets/colab-badge.svg\" alt=\"Open In Colab\"/></a>"
      ]
    },
    {
      "cell_type": "code",
      "metadata": {
        "id": "olqjhBNdDyWb",
        "colab_type": "code",
        "colab": {}
      },
      "source": [
        "import pandas as pd\n",
        "import numpy as np\n",
        "import matplotlib.pyplot as plt\n",
        "import seaborn as sns\n",
        "from sklearn.model_selection import train_test_split\n",
        "\n",
        "df = pd.read_csv('https://raw.githubusercontent.com/CurtCalledBurt/DS_Unit2_Build_Week/master/games.csv')"
      ],
      "execution_count": 0,
      "outputs": []
    },
    {
      "cell_type": "code",
      "metadata": {
        "id": "wMi6wViFDyXr",
        "colab_type": "code",
        "outputId": "49d73da1-1777-4e11-c078-cb050343dec0",
        "colab": {
          "base_uri": "https://localhost:8080/",
          "height": 118
        }
      },
      "source": [
        "df.columns"
      ],
      "execution_count": 2,
      "outputs": [
        {
          "output_type": "execute_result",
          "data": {
            "text/plain": [
              "Index(['id', 'type', 'name', 'yearpublished', 'minplayers', 'maxplayers',\n",
              "       'playingtime', 'minplaytime', 'maxplaytime', 'minage', 'users_rated',\n",
              "       'average_rating', 'bayes_average_rating', 'total_owners',\n",
              "       'total_traders', 'total_wanters', 'total_wishers', 'total_comments',\n",
              "       'total_weights', 'average_weight'],\n",
              "      dtype='object')"
            ]
          },
          "metadata": {
            "tags": []
          },
          "execution_count": 2
        }
      ]
    },
    {
      "cell_type": "code",
      "metadata": {
        "id": "rx0XROhODyYf",
        "colab_type": "code",
        "outputId": "89068f69-68ab-4da0-fe89-cfb60190f9e4",
        "colab": {
          "base_uri": "https://localhost:8080/",
          "height": 34
        }
      },
      "source": [
        "24361/79463"
      ],
      "execution_count": 3,
      "outputs": [
        {
          "output_type": "execute_result",
          "data": {
            "text/plain": [
              "0.30657035349785433"
            ]
          },
          "metadata": {
            "tags": []
          },
          "execution_count": 3
        }
      ]
    },
    {
      "cell_type": "code",
      "metadata": {
        "id": "pWVc59cXDyYk",
        "colab_type": "code",
        "colab": {}
      },
      "source": [
        "# from the glossary I have been able to deduce that:\n",
        "\n",
        "# traders is either:\n",
        "# 1. the number of people who own the game and are willing to trade it, or\n",
        "# 2. the number of people who want the game through trade, not purchase\n",
        "\n",
        "# wanters are those who want the game through trade, typically\n",
        "# wishers are those who want to buy the game\n",
        "\n",
        "# a weight on the site is an abstract measure of how complex a game is, \n",
        "# this number ranges from 1 to 5\n",
        "# So,\n",
        "\n",
        "# total_weights is either: \n",
        "# 1. the total number of people have submitted a \"weight\" for the game or\n",
        "# 2. the total number of all the weights submitted and added up,\n",
        "# and\n",
        "\n",
        "# average_weight is most likely an average of all the measures of weight\n",
        "# submitted by users. This seems most likely as this column ranges from\n",
        "# 1 to 5, like the weights themselves would.\n",
        "\n",
        "\n",
        "column_names = {'yearpublished': 'year_published', 'minplayers': 'min_players',\n",
        "               'maxplayers': 'max_players','playingtime': 'playtime',\n",
        "                'minplaytime': 'min_playtime', 'maxplaytime': 'max_playtime', \n",
        "                'minage': 'min_age'}\n",
        "df = df.rename(columns=column_names)\n",
        "\n",
        "df = df.drop_duplicates()\n",
        "df_old = df.copy()\n",
        "df = df[df['users_rated'] > 0]"
      ],
      "execution_count": 0,
      "outputs": []
    },
    {
      "cell_type": "code",
      "metadata": {
        "id": "N78QzGbKDyYn",
        "colab_type": "code",
        "colab": {}
      },
      "source": [
        "# feature selection\n",
        "\n",
        "# We try predicting 'average_rating' and see what happens with that.\n",
        "target = 'average_rating'\n",
        "\n",
        "# Obviously we wouldn't know the bayes_average_rating if we knew the average rating, \n",
        "# so we remove that from the features. \n",
        "\n",
        "things_we_cannot_know = ['bayes_average_rating']\n",
        "\n",
        "things_we_do_not_need = ['name', 'type', 'id']\n",
        "\n",
        "# turns out max_playtime and playtime are the same column in all \n",
        "# entrees except for three of them, so we'll drop playtime\n",
        "redundant = ['playtime']\n",
        "\n",
        "all_in_all = things_we_cannot_know + things_we_do_not_need + redundant\n",
        "\n",
        "\n",
        "features = df.columns.drop([target] + all_in_all)\n",
        "X = df[features]\n",
        "y = df[target]\n",
        "\n",
        "\n",
        "# We'll make a few things\n",
        "\n",
        "# Okay, I still don't get this whole SetWithoutCopy Error thing,\n",
        "# but it looks like after making new columns of X with binary operations you should \n",
        "# overwrite a copy of X with the new column and then make a new copy.\n",
        "# This is the only line of code of all the feature making lines that requires this.\n",
        "X=X.copy()\n",
        "# X['min_age_15_or_higher'] = X['min_age'] >= 15\n",
        "X=X.copy()\n",
        "\n",
        "\n",
        "\n",
        "\n",
        "\n",
        "# Even after dropping the 0 ratings columns this feature engineering didn't do much.\n",
        "# Too bad.\n",
        "\n",
        "# X['total_interaction'] = X['total_owners'] + X['users_rated'] + X['total_traders'] + X['total_wanters'] + X['total_wishers'] + X['total_comments']\n",
        "# X['total_owners_plus_raters'] = X['total_owners'] + X['users_rated']\n",
        "# X['total_pos_interaction'] = X['total_owners'] + X['users_rated'] + X['total_comments']\n",
        "# X['total_neg_interaction'] = X['total_traders'] + X['total_comments']\n",
        "# X['hype'] = X['total_wanters'] + X['total_wishers'] + X['users_rated']\n",
        "# X['mean_playtime'] = (X['min_playtime'] + X['max_playtime']) / 2\n",
        "# X['new_game'] = X['year_published'] > 2010\n",
        "\n",
        "\n",
        "# # normalized_df=(df-df.mean())/df.std()\n",
        "\n",
        "# X['users_rated'] = (X['users_rated'] - X['users_rated'].mean()) / X['users_rated'].std()"
      ],
      "execution_count": 0,
      "outputs": []
    },
    {
      "cell_type": "code",
      "metadata": {
        "id": "ONGNN0JmDyYr",
        "colab_type": "code",
        "colab": {}
      },
      "source": [
        "# train/test/val split\n",
        "\n",
        "X_train, X_test, y_train, y_test = train_test_split(X, y, random_state=2019)"
      ],
      "execution_count": 0,
      "outputs": []
    },
    {
      "cell_type": "code",
      "metadata": {
        "id": "dyM6FKM-DyYt",
        "colab_type": "code",
        "outputId": "01e68a39-d1b8-492b-839c-29cb4328077e",
        "colab": {
          "base_uri": "https://localhost:8080/",
          "height": 34
        }
      },
      "source": [
        "# train/test/val split\n",
        "X_train, X_val, y_train, y_val = train_test_split(X_train, y_train, random_state=2019)\n",
        "X_train.shape, y_train.shape, X_test.shape, y_test.shape, X_val.shape, y_val.shape"
      ],
      "execution_count": 7,
      "outputs": [
        {
          "output_type": "execute_result",
          "data": {
            "text/plain": [
              "((30994, 14), (30994,), (13776, 14), (13776,), (10332, 14), (10332,))"
            ]
          },
          "metadata": {
            "tags": []
          },
          "execution_count": 7
        }
      ]
    },
    {
      "cell_type": "code",
      "metadata": {
        "id": "lUVRWUC9DyY4",
        "colab_type": "code",
        "colab": {}
      },
      "source": [
        "# quick and dirty baseline regressor\n",
        "# note it returns a list the same size as the input\n",
        "\n",
        "def baseline_Regressor(true, target):\n",
        "  from sklearn.metrics import mean_absolute_error, mean_squared_error, r2_score\n",
        "\n",
        "  # making a list of the same size as 'target' \n",
        "  # with the mean of the target as the only possible entree\n",
        "  mean_target = target.mean()\n",
        "  pred_baseline = [mean_target] * len(true)\n",
        "  \n",
        "  #calculating baseline error and score\n",
        "  mae = mean_absolute_error(true, pred_baseline)\n",
        "  mse = mean_squared_error(true, pred_baseline)\n",
        "  rmse = np.sqrt(mean_squared_error(true, pred_baseline))\n",
        "  r2 = r2_score(true, pred_baseline)\n",
        "  \n",
        "  # printing the errors and scores\n",
        "  return pred_baseline, mae, mse, rmse, r2"
      ],
      "execution_count": 0,
      "outputs": []
    },
    {
      "cell_type": "code",
      "metadata": {
        "id": "XEeoQi22DyY7",
        "colab_type": "code",
        "outputId": "26069cb8-5f90-4fc6-a433-d1996cd09a41",
        "colab": {
          "base_uri": "https://localhost:8080/",
          "height": 84
        }
      },
      "source": [
        "# get a list of baseline predictions\n",
        "y_pred_base, mae_base, mse_base, rmse_base, r2_base = baseline_Regressor(y_val, y_train)\n",
        "\n",
        "print(\"Baseline MAE: \", mae_base)\n",
        "print(\"Baseline MSE: \", mse_base)\n",
        "print(\"Baseline RMSE: \", rmse_base)\n",
        "print(\"Baseline R2 Score: \", r2_base)"
      ],
      "execution_count": 9,
      "outputs": [
        {
          "output_type": "stream",
          "text": [
            "Baseline MAE:  1.2361119756518855\n",
            "Baseline MSE:  2.5345559673252773\n",
            "Baseline RMSE:  1.5920288839481769\n",
            "Baseline R2 Score:  -3.12084851592509e-05\n"
          ],
          "name": "stdout"
        }
      ]
    },
    {
      "cell_type": "code",
      "metadata": {
        "id": "dJ0XqOgHDyZC",
        "colab_type": "code",
        "colab": {}
      },
      "source": [
        "# Remember that eli5 doesn't play well with pipelines, so you need to make your\n",
        "# model outside of a pipeline.\n",
        "from sklearn.pipeline import make_pipeline\n",
        "from sklearn.impute import SimpleImputer\n",
        "from sklearn.ensemble import RandomForestRegressor\n",
        "from sklearn.impute import SimpleImputer\n",
        "\n",
        "# we make our encoder and imputer in a pipeline\n",
        "processor = make_pipeline(\n",
        "    SimpleImputer(strategy='median')\n",
        ")\n",
        "\n",
        "# we fit the processor onto the data\n",
        "X_train_processed = processor.fit_transform(X_train)\n",
        "X_val_processed = processor.transform(X_val)\n",
        "\n",
        "# we make our model outside the pipeline\n",
        "pipeline = RandomForestRegressor(\n",
        "        n_estimators=150,\n",
        "        max_depth=15,\n",
        "        min_samples_leaf=20,\n",
        "        random_state=2019,\n",
        "        n_jobs=-1\n",
        ")\n",
        "\n",
        "# and fit our model to our processed data\n",
        "pipeline.fit(X_train_processed, y_train);\n",
        "# y_pred_proba = pipeline.predict(X_val_processed)"
      ],
      "execution_count": 0,
      "outputs": []
    },
    {
      "cell_type": "code",
      "metadata": {
        "id": "yuQwS6unDyZM",
        "colab_type": "code",
        "colab": {}
      },
      "source": [
        "# RandomForest error\n",
        "\n",
        "from sklearn.metrics import mean_absolute_error, mean_squared_error, r2_score\n",
        "\n",
        "def prediction_and_error(X_train_processed, y_train, pipeline, train_test_or_val):\n",
        "    kind = train_test_or_val\n",
        "\n",
        "    #make a prediction on the train set\n",
        "    y_pred = pipeline.predict(X_train_processed)\n",
        "\n",
        "    # MAE of train set\n",
        "    mae = mean_absolute_error(y_train, y_pred)\n",
        "    print(kind + ' MAE: ', mae)\n",
        "    \n",
        "    # MSE of train set\n",
        "    rmse = mean_squared_error(y_train, y_pred)\n",
        "    print(kind + ' MSE: ', rmse)\n",
        "    \n",
        "    # RMSE of train set\n",
        "    rmse = np.sqrt(mean_squared_error(y_train, y_pred))\n",
        "    print(kind + ' RMSE: ', rmse)\n",
        "\n",
        "    # R2 score of train set\n",
        "    r2 = r2_score(y_train, y_pred)\n",
        "    print(kind + ' R^2 Score: ', r2)\n",
        "    \n",
        "    return y_pred"
      ],
      "execution_count": 0,
      "outputs": []
    },
    {
      "cell_type": "code",
      "metadata": {
        "id": "l5lFDDf2DyZP",
        "colab_type": "code",
        "outputId": "dde0c9a1-74b7-47e8-863f-c8aa047168b3",
        "colab": {
          "base_uri": "https://localhost:8080/",
          "height": 84
        }
      },
      "source": [
        "# Print the Train error and R2 score\n",
        "y_pred = prediction_and_error(X_train_processed, y_train, pipeline, 'Train')"
      ],
      "execution_count": 13,
      "outputs": [
        {
          "output_type": "stream",
          "text": [
            "Train MAE:  0.812787487935968\n",
            "Train MSE:  1.2895384916984387\n",
            "Train RMSE:  1.1355784832843738\n",
            "Train R^2 Score:  0.4838003737793096\n"
          ],
          "name": "stdout"
        }
      ]
    },
    {
      "cell_type": "code",
      "metadata": {
        "scrolled": true,
        "id": "kOWTxThbDyZX",
        "colab_type": "code",
        "outputId": "c783feb4-e3ae-4966-cab9-aaf275776c0b",
        "colab": {
          "base_uri": "https://localhost:8080/",
          "height": 84
        }
      },
      "source": [
        "# Print the Val error and R2 Score\n",
        "y_pred = prediction_and_error(X_val_processed, y_val, pipeline, 'Val')\n",
        "\n",
        "\n",
        "# For comparison here is the baseline error\n",
        "# Baseline on Val set\n",
        "# Baseline MAE:  1.2361119756518884\n",
        "# Baseline MSE:  2.5345559673252773\n",
        "# Baseline RMSE:  1.5920288839481769\n",
        "# Baseline R2 Score:  -3.1208485159028854e-05"
      ],
      "execution_count": 14,
      "outputs": [
        {
          "output_type": "stream",
          "text": [
            "Val MAE:  0.9005604799245981\n",
            "Val MSE:  1.5812322210706697\n",
            "Val RMSE:  1.2574705646935318\n",
            "Val R^2 Score:  0.3761110074828199\n"
          ],
          "name": "stdout"
        }
      ]
    },
    {
      "cell_type": "code",
      "metadata": {
        "id": "88iVppvcDyZc",
        "colab_type": "code",
        "colab": {
          "base_uri": "https://localhost:8080/",
          "height": 306
        },
        "outputId": "8d3509d3-07a4-491a-d5dc-a082ad7b5a3e"
      },
      "source": [
        "!pip install eli5\n",
        "\n",
        "import eli5\n",
        "from eli5.sklearn import PermutationImportance\n",
        "\n",
        "# See how defining an eli5 permuter takes a model but no data? that's\n",
        "# why your data encoders could be used in a pipeline, but your model couldn't;\n",
        "# the model needs to get passed in at definition. The data does not. \n",
        "permuter = PermutationImportance(\n",
        "    pipeline,\n",
        "    scoring='neg_mean_absolute_error',\n",
        "    n_iter=5,\n",
        "#     random_state=2019\n",
        ")\n",
        "\n",
        "# Now the data gets passed in.\n",
        "permuter.fit(X_val_processed, y_val);"
      ],
      "execution_count": 18,
      "outputs": [
        {
          "output_type": "stream",
          "text": [
            "Collecting eli5\n",
            "\u001b[?25l  Downloading https://files.pythonhosted.org/packages/97/2f/c85c7d8f8548e460829971785347e14e45fa5c6617da374711dec8cb38cc/eli5-0.10.1-py2.py3-none-any.whl (105kB)\n",
            "\r\u001b[K     |███                             | 10kB 17.2MB/s eta 0:00:01\r\u001b[K     |██████▏                         | 20kB 7.1MB/s eta 0:00:01\r\u001b[K     |█████████▎                      | 30kB 9.7MB/s eta 0:00:01\r\u001b[K     |████████████▍                   | 40kB 5.8MB/s eta 0:00:01\r\u001b[K     |███████████████▌                | 51kB 6.9MB/s eta 0:00:01\r\u001b[K     |██████████████████▋             | 61kB 8.1MB/s eta 0:00:01\r\u001b[K     |█████████████████████▊          | 71kB 9.3MB/s eta 0:00:01\r\u001b[K     |████████████████████████▊       | 81kB 10.3MB/s eta 0:00:01\r\u001b[K     |███████████████████████████▉    | 92kB 11.4MB/s eta 0:00:01\r\u001b[K     |███████████████████████████████ | 102kB 9.6MB/s eta 0:00:01\r\u001b[K     |████████████████████████████████| 112kB 9.6MB/s \n",
            "\u001b[?25hRequirement already satisfied: tabulate>=0.7.7 in /usr/local/lib/python3.6/dist-packages (from eli5) (0.8.5)\n",
            "Requirement already satisfied: scikit-learn>=0.18 in /usr/local/lib/python3.6/dist-packages (from eli5) (0.21.3)\n",
            "Requirement already satisfied: numpy>=1.9.0 in /usr/local/lib/python3.6/dist-packages (from eli5) (1.17.3)\n",
            "Requirement already satisfied: attrs>16.0.0 in /usr/local/lib/python3.6/dist-packages (from eli5) (19.3.0)\n",
            "Requirement already satisfied: scipy in /usr/local/lib/python3.6/dist-packages (from eli5) (1.3.1)\n",
            "Requirement already satisfied: six in /usr/local/lib/python3.6/dist-packages (from eli5) (1.12.0)\n",
            "Requirement already satisfied: graphviz in /usr/local/lib/python3.6/dist-packages (from eli5) (0.10.1)\n",
            "Requirement already satisfied: jinja2 in /usr/local/lib/python3.6/dist-packages (from eli5) (2.10.3)\n",
            "Requirement already satisfied: joblib>=0.11 in /usr/local/lib/python3.6/dist-packages (from scikit-learn>=0.18->eli5) (0.14.0)\n",
            "Requirement already satisfied: MarkupSafe>=0.23 in /usr/local/lib/python3.6/dist-packages (from jinja2->eli5) (1.1.1)\n",
            "Installing collected packages: eli5\n",
            "Successfully installed eli5-0.10.1\n"
          ],
          "name": "stdout"
        },
        {
          "output_type": "stream",
          "text": [
            "Using TensorFlow backend.\n"
          ],
          "name": "stderr"
        }
      ]
    },
    {
      "cell_type": "code",
      "metadata": {
        "id": "wxC7gsKRDyZi",
        "colab_type": "code",
        "outputId": "bba3875b-5191-4f02-f95b-9840d939c60d",
        "colab": {
          "base_uri": "https://localhost:8080/",
          "height": 269
        }
      },
      "source": [
        "# Permutation Table\n",
        "\n",
        "feature_names = X_val.columns.tolist()\n",
        "pd.Series(permuter.feature_importances_, feature_names).sort_values(ascending=False)\n",
        "\n",
        "eli5.show_weights(\n",
        "    permuter, \n",
        "    top=None,\n",
        "    feature_names=feature_names\n",
        ")"
      ],
      "execution_count": 19,
      "outputs": [
        {
          "output_type": "execute_result",
          "data": {
            "text/html": [
              "\n",
              "    <style>\n",
              "    table.eli5-weights tr:hover {\n",
              "        filter: brightness(85%);\n",
              "    }\n",
              "</style>\n",
              "\n",
              "\n",
              "\n",
              "    \n",
              "\n",
              "    \n",
              "\n",
              "    \n",
              "\n",
              "    \n",
              "\n",
              "    \n",
              "\n",
              "    \n",
              "\n",
              "\n",
              "    \n",
              "\n",
              "    \n",
              "\n",
              "    \n",
              "\n",
              "    \n",
              "\n",
              "    \n",
              "\n",
              "    \n",
              "\n",
              "\n",
              "    \n",
              "\n",
              "    \n",
              "\n",
              "    \n",
              "\n",
              "    \n",
              "\n",
              "    \n",
              "        <table class=\"eli5-weights eli5-feature-importances\" style=\"border-collapse: collapse; border: none; margin-top: 0em; table-layout: auto;\">\n",
              "    <thead>\n",
              "    <tr style=\"border: none;\">\n",
              "        <th style=\"padding: 0 1em 0 0.5em; text-align: right; border: none;\">Weight</th>\n",
              "        <th style=\"padding: 0 0.5em 0 0.5em; text-align: left; border: none;\">Feature</th>\n",
              "    </tr>\n",
              "    </thead>\n",
              "    <tbody>\n",
              "    \n",
              "        <tr style=\"background-color: hsl(120, 100.00%, 80.00%); border: none;\">\n",
              "            <td style=\"padding: 0 1em 0 0.5em; text-align: right; border: none;\">\n",
              "                0.1483\n",
              "                \n",
              "                    &plusmn; 0.0054\n",
              "                \n",
              "            </td>\n",
              "            <td style=\"padding: 0 0.5em 0 0.5em; text-align: left; border: none;\">\n",
              "                total_wishers\n",
              "            </td>\n",
              "        </tr>\n",
              "    \n",
              "        <tr style=\"background-color: hsl(120, 100.00%, 80.10%); border: none;\">\n",
              "            <td style=\"padding: 0 1em 0 0.5em; text-align: right; border: none;\">\n",
              "                0.1473\n",
              "                \n",
              "                    &plusmn; 0.0080\n",
              "                \n",
              "            </td>\n",
              "            <td style=\"padding: 0 0.5em 0 0.5em; text-align: left; border: none;\">\n",
              "                year_published\n",
              "            </td>\n",
              "        </tr>\n",
              "    \n",
              "        <tr style=\"background-color: hsl(120, 100.00%, 85.34%); border: none;\">\n",
              "            <td style=\"padding: 0 1em 0 0.5em; text-align: right; border: none;\">\n",
              "                0.0952\n",
              "                \n",
              "                    &plusmn; 0.0066\n",
              "                \n",
              "            </td>\n",
              "            <td style=\"padding: 0 0.5em 0 0.5em; text-align: left; border: none;\">\n",
              "                average_weight\n",
              "            </td>\n",
              "        </tr>\n",
              "    \n",
              "        <tr style=\"background-color: hsl(120, 100.00%, 88.10%); border: none;\">\n",
              "            <td style=\"padding: 0 1em 0 0.5em; text-align: right; border: none;\">\n",
              "                0.0706\n",
              "                \n",
              "                    &plusmn; 0.0027\n",
              "                \n",
              "            </td>\n",
              "            <td style=\"padding: 0 0.5em 0 0.5em; text-align: left; border: none;\">\n",
              "                total_wanters\n",
              "            </td>\n",
              "        </tr>\n",
              "    \n",
              "        <tr style=\"background-color: hsl(120, 100.00%, 90.32%); border: none;\">\n",
              "            <td style=\"padding: 0 1em 0 0.5em; text-align: right; border: none;\">\n",
              "                0.0526\n",
              "                \n",
              "                    &plusmn; 0.0019\n",
              "                \n",
              "            </td>\n",
              "            <td style=\"padding: 0 0.5em 0 0.5em; text-align: left; border: none;\">\n",
              "                total_traders\n",
              "            </td>\n",
              "        </tr>\n",
              "    \n",
              "        <tr style=\"background-color: hsl(120, 100.00%, 93.33%); border: none;\">\n",
              "            <td style=\"padding: 0 1em 0 0.5em; text-align: right; border: none;\">\n",
              "                0.0309\n",
              "                \n",
              "                    &plusmn; 0.0021\n",
              "                \n",
              "            </td>\n",
              "            <td style=\"padding: 0 0.5em 0 0.5em; text-align: left; border: none;\">\n",
              "                total_owners\n",
              "            </td>\n",
              "        </tr>\n",
              "    \n",
              "        <tr style=\"background-color: hsl(120, 100.00%, 96.01%); border: none;\">\n",
              "            <td style=\"padding: 0 1em 0 0.5em; text-align: right; border: none;\">\n",
              "                0.0149\n",
              "                \n",
              "                    &plusmn; 0.0022\n",
              "                \n",
              "            </td>\n",
              "            <td style=\"padding: 0 0.5em 0 0.5em; text-align: left; border: none;\">\n",
              "                max_players\n",
              "            </td>\n",
              "        </tr>\n",
              "    \n",
              "        <tr style=\"background-color: hsl(120, 100.00%, 96.18%); border: none;\">\n",
              "            <td style=\"padding: 0 1em 0 0.5em; text-align: right; border: none;\">\n",
              "                0.0139\n",
              "                \n",
              "                    &plusmn; 0.0016\n",
              "                \n",
              "            </td>\n",
              "            <td style=\"padding: 0 0.5em 0 0.5em; text-align: left; border: none;\">\n",
              "                min_age\n",
              "            </td>\n",
              "        </tr>\n",
              "    \n",
              "        <tr style=\"background-color: hsl(120, 100.00%, 96.69%); border: none;\">\n",
              "            <td style=\"padding: 0 1em 0 0.5em; text-align: right; border: none;\">\n",
              "                0.0114\n",
              "                \n",
              "                    &plusmn; 0.0016\n",
              "                \n",
              "            </td>\n",
              "            <td style=\"padding: 0 0.5em 0 0.5em; text-align: left; border: none;\">\n",
              "                max_playtime\n",
              "            </td>\n",
              "        </tr>\n",
              "    \n",
              "        <tr style=\"background-color: hsl(120, 100.00%, 97.00%); border: none;\">\n",
              "            <td style=\"padding: 0 1em 0 0.5em; text-align: right; border: none;\">\n",
              "                0.0099\n",
              "                \n",
              "                    &plusmn; 0.0009\n",
              "                \n",
              "            </td>\n",
              "            <td style=\"padding: 0 0.5em 0 0.5em; text-align: left; border: none;\">\n",
              "                total_comments\n",
              "            </td>\n",
              "        </tr>\n",
              "    \n",
              "        <tr style=\"background-color: hsl(120, 100.00%, 97.53%); border: none;\">\n",
              "            <td style=\"padding: 0 1em 0 0.5em; text-align: right; border: none;\">\n",
              "                0.0075\n",
              "                \n",
              "                    &plusmn; 0.0011\n",
              "                \n",
              "            </td>\n",
              "            <td style=\"padding: 0 0.5em 0 0.5em; text-align: left; border: none;\">\n",
              "                users_rated\n",
              "            </td>\n",
              "        </tr>\n",
              "    \n",
              "        <tr style=\"background-color: hsl(120, 100.00%, 97.66%); border: none;\">\n",
              "            <td style=\"padding: 0 1em 0 0.5em; text-align: right; border: none;\">\n",
              "                0.0069\n",
              "                \n",
              "                    &plusmn; 0.0004\n",
              "                \n",
              "            </td>\n",
              "            <td style=\"padding: 0 0.5em 0 0.5em; text-align: left; border: none;\">\n",
              "                total_weights\n",
              "            </td>\n",
              "        </tr>\n",
              "    \n",
              "        <tr style=\"background-color: hsl(120, 100.00%, 98.18%); border: none;\">\n",
              "            <td style=\"padding: 0 1em 0 0.5em; text-align: right; border: none;\">\n",
              "                0.0048\n",
              "                \n",
              "                    &plusmn; 0.0019\n",
              "                \n",
              "            </td>\n",
              "            <td style=\"padding: 0 0.5em 0 0.5em; text-align: left; border: none;\">\n",
              "                min_playtime\n",
              "            </td>\n",
              "        </tr>\n",
              "    \n",
              "        <tr style=\"background-color: hsl(120, 100.00%, 98.55%); border: none;\">\n",
              "            <td style=\"padding: 0 1em 0 0.5em; text-align: right; border: none;\">\n",
              "                0.0035\n",
              "                \n",
              "                    &plusmn; 0.0008\n",
              "                \n",
              "            </td>\n",
              "            <td style=\"padding: 0 0.5em 0 0.5em; text-align: left; border: none;\">\n",
              "                min_players\n",
              "            </td>\n",
              "        </tr>\n",
              "    \n",
              "    \n",
              "    </tbody>\n",
              "</table>\n",
              "    \n",
              "\n",
              "    \n",
              "\n",
              "\n",
              "    \n",
              "\n",
              "    \n",
              "\n",
              "    \n",
              "\n",
              "    \n",
              "\n",
              "    \n",
              "\n",
              "    \n",
              "\n",
              "\n",
              "\n"
            ],
            "text/plain": [
              "<IPython.core.display.HTML object>"
            ]
          },
          "metadata": {
            "tags": []
          },
          "execution_count": 19
        }
      ]
    },
    {
      "cell_type": "code",
      "metadata": {
        "id": "e7Gtca0iDyZl",
        "colab_type": "code",
        "outputId": "e219a136-3d0b-4e7d-ddde-5964e5be65da",
        "colab": {
          "base_uri": "https://localhost:8080/",
          "height": 311
        }
      },
      "source": [
        "fig, (ax1, ax2) = plt.subplots(ncols=2, sharey=False, figsize=(12, 4))\n",
        "ax1.set_facecolor('dimgray')\n",
        "ax2.set_facecolor('lightcyan')\n",
        "\n",
        "# Scatter Plot of the true average rating vs users_rated in val set\n",
        "sns.regplot(X_val['users_rated'], y_val, \n",
        "            fit_reg = False, \n",
        "            scatter_kws={'color': 'cyan', \n",
        "                         's': .5}, \n",
        "            ax=ax1);\n",
        "\n",
        "# Scatter Plot of the Predicted average rating vs users_rated in val set\n",
        "sns.regplot(X_val['users_rated'], y_pred, \n",
        "            fit_reg = False, \n",
        "            scatter_kws={'color':'black', \n",
        "                         's': .5}, \n",
        "            ax=ax2);\n",
        "\n",
        "ax1.set(title = \"Game's average rating vs. \\n the game's total number of ratings\",\n",
        "        ylabel='true ratings', \n",
        "        xlim=(-1_500, 50_000),\n",
        "        ylim=(-0.5, 10.5)\n",
        "       )\n",
        "ax2.set(title=\"Model's predicted average rating of a game vs. \\n the game's total number of ratings\",\n",
        "        ylabel='predicted ratings',\n",
        "        xlim=(-1_500, 50_000),\n",
        "        ylim=(-0.5, 10.5)\n",
        "       )\n",
        "plt.show()"
      ],
      "execution_count": 20,
      "outputs": [
        {
          "output_type": "display_data",
          "data": {
            "image/png": "[encoded data removed]",
            "text/plain": [
              "<Figure size 864x288 with 2 Axes>"
            ]
          },
          "metadata": {
            "tags": []
          }
        }
      ]
    },
    {
      "cell_type": "code",
      "metadata": {
        "id": "CB530TgtDyZn",
        "colab_type": "code",
        "outputId": "8c06f952-58f7-411f-f02d-11a5b8ef1683",
        "colab": {
          "base_uri": "https://localhost:8080/",
          "height": 311
        }
      },
      "source": [
        "fig, (ax1, ax2) = plt.subplots(ncols=2, sharey=False, figsize=(12, 4))\n",
        "ax1.set_facecolor('dimgray')\n",
        "ax2.set_facecolor('lightcyan')\n",
        "\n",
        "# Zoom in on True val vs users\n",
        "sns.regplot(X_val['users_rated'], y_val, \n",
        "            fit_reg = False, \n",
        "            scatter_kws={'color': 'cyan', \n",
        "                         's': .5}, \n",
        "            ax=ax1);\n",
        "\n",
        "# Zoom in on Pred val vs users\n",
        "sns.regplot(X_val['users_rated'], y_pred, \n",
        "            fit_reg = False, \n",
        "            scatter_kws={'color': 'black',\n",
        "                         's': .5}, \n",
        "            ax=ax2);\n",
        "\n",
        "ax1.set(title = \"Game's average rating vs. \\n the game's total number of ratings\",\n",
        "        ylabel='true ratings', \n",
        "        xlim=(-300, 10_000),\n",
        "        ylim=(-0.5, 10.5)\n",
        "       )\n",
        "ax2.set(title=\"Model's predicted average rating of a game vs. \\n the game's total number of ratings\",\n",
        "        ylabel='predicted ratings',\n",
        "        xlim=(-300, 10_000),\n",
        "        ylim=(-0.5, 10.5)\n",
        "       )\n",
        "plt.show()"
      ],
      "execution_count": 21,
      "outputs": [
        {
          "output_type": "display_data",
          "data": {
            "image/png": "[encoded data removed]",
            "text/plain": [
              "<Figure size 864x288 with 2 Axes>"
            ]
          },
          "metadata": {
            "tags": []
          }
        }
      ]
    },
    {
      "cell_type": "code",
      "metadata": {
        "id": "JcL6SBN4DyZq",
        "colab_type": "code",
        "outputId": "fc6f0db6-2b1b-4978-f385-a4a63592b3fc",
        "colab": {
          "base_uri": "https://localhost:8080/",
          "height": 280
        }
      },
      "source": [
        "# histogram of average ratings\n",
        "\n",
        "sns.distplot(df_old['average_rating']);"
      ],
      "execution_count": 22,
      "outputs": [
        {
          "output_type": "display_data",
          "data": {
            "image/png": "[encoded data removed]",
            "text/plain": [
              "<Figure size 432x288 with 1 Axes>"
            ]
          },
          "metadata": {
            "tags": []
          }
        }
      ]
    },
    {
      "cell_type": "code",
      "metadata": {
        "id": "W522L2rGDyZs",
        "colab_type": "code",
        "outputId": "71dfb13c-3823-4c98-a979-bcf6a629c4e2",
        "colab": {
          "base_uri": "https://localhost:8080/",
          "height": 280
        }
      },
      "source": [
        "# histogram of number of ratings\n",
        "\n",
        "sns.distplot(df_old['users_rated']);"
      ],
      "execution_count": 23,
      "outputs": [
        {
          "output_type": "display_data",
          "data": {
            "image/png": "[encoded data removed]",
            "text/plain": [
              "<Figure size 432x288 with 1 Axes>"
            ]
          },
          "metadata": {
            "tags": []
          }
        }
      ]
    },
    {
      "cell_type": "code",
      "metadata": {
        "id": "v0Dl3BR4DyZ3",
        "colab_type": "code",
        "outputId": "dac8ea1f-595b-4deb-dc3c-0cda80d714e8",
        "colab": {
          "base_uri": "https://localhost:8080/",
          "height": 280
        }
      },
      "source": [
        "# average ratings excluding zeroes\n",
        "\n",
        "fig, ax = plt.subplots()\n",
        "\n",
        "sns.distplot(y_train, ax=ax)\n",
        "ax.set(xticks=range(0,11,1))\n",
        "plt.show()"
      ],
      "execution_count": 24,
      "outputs": [
        {
          "output_type": "display_data",
          "data": {
            "image/png": "[encoded data removed]",
            "text/plain": [
              "<Figure size 432x288 with 1 Axes>"
            ]
          },
          "metadata": {
            "tags": []
          }
        }
      ]
    },
    {
      "cell_type": "code",
      "metadata": {
        "id": "Ld6yY0o2DyaG",
        "colab_type": "code",
        "outputId": "48c5e83b-c0e5-4769-b004-b8c68b90b800",
        "colab": {
          "base_uri": "https://localhost:8080/",
          "height": 280
        }
      },
      "source": [
        "# number of ratings excluding zeroes\n",
        "\n",
        "fig, ax = plt.subplots()\n",
        "\n",
        "sns.distplot(X_train['users_rated'], ax=ax)\n",
        "plt.show()"
      ],
      "execution_count": 25,
      "outputs": [
        {
          "output_type": "display_data",
          "data": {
            "image/png": "[encoded data removed]",
            "text/plain": [
              "<Figure size 432x288 with 1 Axes>"
            ]
          },
          "metadata": {
            "tags": []
          }
        }
      ]
    },
    {
      "cell_type": "code",
      "metadata": {
        "id": "3hJhR-z_DyaJ",
        "colab_type": "code",
        "outputId": "f63bc882-9ebb-47b5-a768-2b26b4b91f1b",
        "colab": {
          "base_uri": "https://localhost:8080/",
          "height": 34
        }
      },
      "source": [
        "# chcking how many 0 user ratings there were before we got rid of them all\n",
        "df_old[df_old['average_rating']== 0].shape"
      ],
      "execution_count": 26,
      "outputs": [
        {
          "output_type": "execute_result",
          "data": {
            "text/plain": [
              "(24361, 20)"
            ]
          },
          "metadata": {
            "tags": []
          },
          "execution_count": 26
        }
      ]
    },
    {
      "cell_type": "code",
      "metadata": {
        "id": "Hc69wy0_DyaM",
        "colab_type": "code",
        "outputId": "8fc37b44-e233-488f-fb6f-e537f23b0879",
        "colab": {
          "base_uri": "https://localhost:8080/",
          "height": 34
        }
      },
      "source": [
        "# checking if somehow the average rating defaulted to 10 instead of 0 in some cases\n",
        "df_old[(df_old['average_rating'] >= 10) & (df_old['users_rated'] == 0)].shape"
      ],
      "execution_count": 27,
      "outputs": [
        {
          "output_type": "execute_result",
          "data": {
            "text/plain": [
              "(0, 20)"
            ]
          },
          "metadata": {
            "tags": []
          },
          "execution_count": 27
        }
      ]
    },
    {
      "cell_type": "code",
      "metadata": {
        "id": "34wr3EdSDyaO",
        "colab_type": "code",
        "outputId": "ad3e8187-a9d6-4e0c-ed66-d47fa37c890f",
        "colab": {
          "base_uri": "https://localhost:8080/",
          "height": 218
        }
      },
      "source": [
        "# making sure that the 0 user ratings are indeed gone\n",
        "X_train['users_rated'].value_counts()"
      ],
      "execution_count": 28,
      "outputs": [
        {
          "output_type": "execute_result",
          "data": {
            "text/plain": [
              "1       6370\n",
              "2       3405\n",
              "3       2244\n",
              "4       1615\n",
              "5       1250\n",
              "        ... \n",
              "3337       1\n",
              "1272       1\n",
              "1256       1\n",
              "7371       1\n",
              "1975       1\n",
              "Name: users_rated, Length: 1578, dtype: int64"
            ]
          },
          "metadata": {
            "tags": []
          },
          "execution_count": 28
        }
      ]
    },
    {
      "cell_type": "code",
      "metadata": {
        "id": "ej1D95AVDyaR",
        "colab_type": "code",
        "colab": {}
      },
      "source": [
        ""
      ],
      "execution_count": 0,
      "outputs": []
    }
  ]
}