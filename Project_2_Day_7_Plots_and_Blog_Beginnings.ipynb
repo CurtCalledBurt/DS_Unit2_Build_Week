{
  "nbformat": 4,
  "nbformat_minor": 0,
  "metadata": {
    "kernelspec": {
      "display_name": "Python 3",
      "language": "python",
      "name": "python3"
    },
    "language_info": {
      "codemirror_mode": {
        "name": "ipython",
        "version": 3
      },
      "file_extension": ".py",
      "mimetype": "text/x-python",
      "name": "python",
      "nbconvert_exporter": "python",
      "pygments_lexer": "ipython3",
      "version": "3.7.4"
    },
    "colab": {
      "name": "Project 2 Day 7 - Plots and Blog Beginnings.ipynb",
      "provenance": [],
      "include_colab_link": true
    }
  },
  "cells": [
    {
      "cell_type": "markdown",
      "metadata": {
        "id": "view-in-github",
        "colab_type": "text"
      },
      "source": [
        "<a href=\"https://colab.research.google.com/github/CurtCalledBurt/DS_Unit2_Build_Week/blob/master/Project_2_Day_7_Plots_and_Blog_Beginnings.ipynb\" target=\"_parent\"><img src=\"https://colab.research.google.com/assets/colab-badge.svg\" alt=\"Open In Colab\"/></a>"
      ]
    },
    {
      "cell_type": "code",
      "metadata": {
        "id": "HLSHk8wjGxSH",
        "colab_type": "code",
        "colab": {}
      },
      "source": [
        "import pandas as pd\n",
        "import numpy as np\n",
        "import matplotlib.pyplot as plt\n",
        "import seaborn as sns\n",
        "from sklearn.model_selection import train_test_split\n",
        "\n",
        "df = pd.read_csv('/Users/curtismckendrick/Downloads/games.csv')"
      ],
      "execution_count": 0,
      "outputs": []
    },
    {
      "cell_type": "code",
      "metadata": {
        "id": "P3hSKX3_GxSO",
        "colab_type": "code",
        "colab": {},
        "outputId": "be856da7-2352-4d9e-b841-8c6f69236152"
      },
      "source": [
        "df.columns"
      ],
      "execution_count": 0,
      "outputs": [
        {
          "output_type": "execute_result",
          "data": {
            "text/plain": [
              "Index(['id', 'type', 'name', 'yearpublished', 'minplayers', 'maxplayers',\n",
              "       'playingtime', 'minplaytime', 'maxplaytime', 'minage', 'users_rated',\n",
              "       'average_rating', 'bayes_average_rating', 'total_owners',\n",
              "       'total_traders', 'total_wanters', 'total_wishers', 'total_comments',\n",
              "       'total_weights', 'average_weight'],\n",
              "      dtype='object')"
            ]
          },
          "metadata": {
            "tags": []
          },
          "execution_count": 2
        }
      ]
    },
    {
      "cell_type": "code",
      "metadata": {
        "id": "OLNoL9YoGxSS",
        "colab_type": "code",
        "colab": {}
      },
      "source": [
        "# from the glossary I have been able to deduce that:\n",
        "\n",
        "# traders is either:\n",
        "# 1. the number of people who own the game and are willing to trade it, or\n",
        "# 2. the number of people who want the game through trade, not purchase\n",
        "\n",
        "# wanters are those who want the game through trade, typically\n",
        "# wishers are those who want to buy the game\n",
        "\n",
        "# a weight on the site is an abstract measure of how complex a game is, \n",
        "# this number ranges from 1 to 5\n",
        "# So,\n",
        "\n",
        "# total_weights is either: \n",
        "# 1. the total number of people have submitted a \"weight\" for the game or\n",
        "# 2. the total number of all the weights submitted and added up,\n",
        "# and\n",
        "\n",
        "# average_weight is most likely an average of all the measures of weight\n",
        "# submitted by users. This seems most likely as this column ranges from\n",
        "# 1 to 5, like the weights themselves would.\n",
        "\n",
        "\n",
        "column_names = {'yearpublished': 'year_published', 'minplayers': 'min_players',\n",
        "               'maxplayers': 'max_players','playingtime': 'playtime',\n",
        "                'minplaytime': 'min_playtime', 'maxplaytime': 'max_playtime', \n",
        "                'minage': 'min_age'}\n",
        "df = df.rename(columns=column_names)"
      ],
      "execution_count": 0,
      "outputs": []
    },
    {
      "cell_type": "code",
      "metadata": {
        "id": "nyFhGJ7pGxSU",
        "colab_type": "code",
        "colab": {}
      },
      "source": [
        "# feature selection\n",
        "\n",
        "# We try predicting 'average_rating' and see what happens with that.\n",
        "target = 'average_rating'\n",
        "\n",
        "# Obviously we wouldn't know the bayes_average_rating if we knew the average rating, \n",
        "# so we remove that from the features. \n",
        "\n",
        "things_we_cannot_know = ['bayes_average_rating']\n",
        "\n",
        "things_we_do_not_need = ['name', 'type', 'id']\n",
        "\n",
        "# turns out max_playtime and playtime are the same column in all \n",
        "# entrees except for three of them, so we'll drop playtime\n",
        "redundant = ['playtime']\n",
        "\n",
        "all_in_all = things_we_cannot_know + things_we_do_not_need + redundant\n",
        "\n",
        "\n",
        "features = df.columns.drop([target] + all_in_all)\n",
        "X = df[features]\n",
        "y = df[target]\n",
        "\n",
        "\n",
        "# We'll make a few things\n",
        "\n",
        "# Okay, I still don't get this whole SetWithoutCopy Error thing,\n",
        "# but it looks like after making new columns of X with binary operations you should \n",
        "# overwrite a copy of X with the new column and then make a new copy.\n",
        "# This is the only line of code of all the feature making lines that requires this.\n",
        "X=X.copy()\n",
        "# X['min_age_15_or_higher'] = X['min_age'] >= 15\n",
        "X=X.copy()\n",
        "\n",
        "# X['total_interaction'] = X['total_owners'] + X['users_rated'] + X['total_traders'] + X['total_wanters'] + X['total_wishers'] + X['total_comments']\n",
        "# X['total_owners_plus_raters'] = X['total_owners'] + X['users_rated']\n",
        "# X['total_pos_interaction'] = X['total_owners'] + X['users_rated'] + X['total_comments']\n",
        "# X['total_neg_interaction'] = X['total_traders'] + X['total_comments']\n",
        "# X['hype'] = X['total_wanters'] + X['total_wishers'] + X['users_rated']\n",
        "# X['mean_playtime'] = (X['min_playtime'] + X['max_playtime']) / 2\n",
        "# X['new_game'] = X['year_published'] > 2010\n",
        "\n",
        "\n",
        "# normalized_df=(df-df.mean())/df.std()\n",
        "\n",
        "# X['users_rated'] = (X['users_rated'] - X['users_rated'].mean()) / X['users_rated'].std()"
      ],
      "execution_count": 0,
      "outputs": []
    },
    {
      "cell_type": "code",
      "metadata": {
        "id": "nt4TvWuiGxSX",
        "colab_type": "code",
        "colab": {}
      },
      "source": [
        "# train/test/val split\n",
        "\n",
        "X_train, X_test, y_train, y_test = train_test_split(X, y, random_state=2019)"
      ],
      "execution_count": 0,
      "outputs": []
    },
    {
      "cell_type": "code",
      "metadata": {
        "id": "iwDn-xAaGxSa",
        "colab_type": "code",
        "colab": {},
        "outputId": "381cc0b6-fde3-432c-e68d-17a9d68cba91"
      },
      "source": [
        "# train/test/val split\n",
        "X_train, X_val, y_train, y_val = train_test_split(X_train, y_train, random_state=2019)\n",
        "X_train.shape, y_train.shape, X_test.shape, y_test.shape, X_val.shape, y_val.shape"
      ],
      "execution_count": 0,
      "outputs": [
        {
          "output_type": "execute_result",
          "data": {
            "text/plain": [
              "((45738, 14), (45738,), (20328, 14), (20328,), (15246, 14), (15246,))"
            ]
          },
          "metadata": {
            "tags": []
          },
          "execution_count": 6
        }
      ]
    },
    {
      "cell_type": "code",
      "metadata": {
        "id": "rLqq_8oAGxSd",
        "colab_type": "code",
        "colab": {}
      },
      "source": [
        "# quick and dirty baseline regressor\n",
        "# note it returns a list the same size as the input\n",
        "\n",
        "def baseline_Regressor(target):\n",
        "  from sklearn.metrics import mean_absolute_error, mean_squared_error, r2_score\n",
        "\n",
        "  # making a list of the same size as 'target' \n",
        "  # with the mean of the target as the only possible entree\n",
        "  mean_target = target.mean()\n",
        "  pred_baseline = [mean_target] * len(target)\n",
        "  \n",
        "  #calculating baseline error and score\n",
        "  mae = mean_absolute_error(target, pred_baseline)\n",
        "  mse = mean_squared_error(target, pred_baseline)\n",
        "  r2 = r2_score(target, pred_baseline)\n",
        "  \n",
        "  # printing the errors and scores\n",
        "  return pred_baseline, mae, mse, r2"
      ],
      "execution_count": 0,
      "outputs": []
    },
    {
      "cell_type": "code",
      "metadata": {
        "id": "X5y3k0bRGxSh",
        "colab_type": "code",
        "colab": {},
        "outputId": "91dfa856-1916-4ec4-d730-8f173a7bceb9"
      },
      "source": [
        "# get a list of baseline predictions\n",
        "y_pred_base, mae_base, mse_base, r2_base = baseline_Regressor(y_train)\n",
        "mae_base, mse_base, r2_base"
      ],
      "execution_count": 0,
      "outputs": [
        {
          "output_type": "execute_result",
          "data": {
            "text/plain": [
              "(2.711469150949111, 9.321468469749549, 0.0)"
            ]
          },
          "metadata": {
            "tags": []
          },
          "execution_count": 8
        }
      ]
    },
    {
      "cell_type": "code",
      "metadata": {
        "id": "MDQnr1wcGxSj",
        "colab_type": "code",
        "colab": {}
      },
      "source": [
        "# Remember that eli5 doesn't play well with pipelines, so you need to make your\n",
        "# model outside of a pipeline.\n",
        "from sklearn.pipeline import make_pipeline\n",
        "from sklearn.impute import SimpleImputer\n",
        "import category_encoders as ce\n",
        "from sklearn.ensemble import RandomForestRegressor\n",
        "from sklearn.impute import SimpleImputer\n",
        "\n",
        "# we make our encoder and imputer in a pipeline\n",
        "processor = make_pipeline(\n",
        "    SimpleImputer(strategy='median')\n",
        ")\n",
        "\n",
        "# we fit the processor onto the data\n",
        "X_train_processed = processor.fit_transform(X_train)\n",
        "X_val_processed = processor.transform(X_val)\n",
        "\n",
        "# we make our model outside the pipeline\n",
        "pipeline = RandomForestRegressor(\n",
        "        n_estimators=150,\n",
        "        max_depth=15,\n",
        "        min_samples_leaf=20,\n",
        "        random_state=2019,\n",
        "        n_jobs=-1\n",
        ")\n",
        "\n",
        "# and fit our model to our processed data\n",
        "pipeline.fit(X_train_processed, y_train);\n",
        "# y_pred_proba = pipeline.predict(X_val_processed)"
      ],
      "execution_count": 0,
      "outputs": []
    },
    {
      "cell_type": "code",
      "metadata": {
        "id": "5VZRj2U3GxSl",
        "colab_type": "code",
        "colab": {}
      },
      "source": [
        "# # Random forest model\n",
        "\n",
        "# # more robust modelling\n",
        "# # we'll start with a random forest before making our way to xgboost\n",
        "# from sklearn.pipeline import make_pipeline\n",
        "# from sklearn.impute import SimpleImputer\n",
        "# import category_encoders as ce\n",
        "# from sklearn.ensemble import RandomForestRegressor\n",
        "\n",
        "\n",
        "# pipeline = make_pipeline(\n",
        "#     ce.OneHotEncoder(),\n",
        "#     SimpleImputer(strategy='median'),\n",
        "#     RandomForestRegressor(n_estimators=150, random_state=2019, n_jobs=-1)\n",
        "# )\n",
        "# # Fit the model\n",
        "# pipeline.fit(X_train, y_train);"
      ],
      "execution_count": 0,
      "outputs": []
    },
    {
      "cell_type": "code",
      "metadata": {
        "id": "sGd7hSGiGxSo",
        "colab_type": "code",
        "colab": {}
      },
      "source": [
        "# RandomForest error\n",
        "\n",
        "from sklearn.metrics import mean_absolute_error, mean_squared_error, r2_score\n",
        "\n",
        "def prediction_and_error(X_train_processed, y_train, pipeline, train_test_or_val):\n",
        "    kind = train_test_or_val\n",
        "\n",
        "    #make a prediction on the train set\n",
        "    y_pred = pipeline.predict(X_train_processed)\n",
        "\n",
        "    # MAE of train set\n",
        "    mae = mean_absolute_error(y_train, y_pred)\n",
        "    print('MAE ' + kind + ' Error: ', mae)\n",
        "\n",
        "    # RMSE of train set\n",
        "    rmse = np.sqrt(mean_squared_error(y_train, y_pred))\n",
        "    print('RMSE ' + kind + ' Error: ', rmse)\n",
        "\n",
        "    # R2 score of train set\n",
        "    r2 = r2_score(y_train, y_pred)\n",
        "    print(kind + ' R^2 Score: ', r2)\n",
        "    \n",
        "    return y_pred"
      ],
      "execution_count": 0,
      "outputs": []
    },
    {
      "cell_type": "code",
      "metadata": {
        "id": "CvnavJnjGxSs",
        "colab_type": "code",
        "colab": {},
        "outputId": "e44ba0bd-a2d5-4134-9165-2fbb45c52135"
      },
      "source": [
        "y_pred = prediction_and_error(X_train_processed, y_train, pipeline, 'Train')"
      ],
      "execution_count": 0,
      "outputs": [
        {
          "output_type": "stream",
          "text": [
            "MAE Train Error:  0.5659309875047587\n",
            "RMSE Train Error:  0.9546116292597246\n",
            "Train R^2 Score:  0.9022382186159569\n"
          ],
          "name": "stdout"
        }
      ]
    },
    {
      "cell_type": "code",
      "metadata": {
        "scrolled": true,
        "id": "A3iCoz0FGxSv",
        "colab_type": "code",
        "colab": {},
        "outputId": "be268313-d15d-47e7-e8d9-5f6085411afd"
      },
      "source": [
        "y_pred = prediction_and_error(X_val_processed, y_val, pipeline, 'Val')\n",
        "\n",
        "# with just plain users_rated\n",
        "# MAE Val Error:  0.5942241404812977\n",
        "# RMSE Val Error:  0.9929736252074519\n",
        "# Val R^2 Score:  0.894620317941877\n",
        "\n",
        "# with plain and normalized users_rated\n",
        "# MAE Val Error:  0.5942258345754675\n",
        "# RMSE Val Error:  0.9929811116576077\n",
        "# Val R^2 Score:  0.894618728931472\n",
        "\n",
        "# with just normalized users_rated\n",
        "# MAE Val Error:  0.5942250790023598\n",
        "# RMSE Val Error:  0.9929742554108404\n",
        "# Val R^2 Score:  0.8946201841807134\n",
        "\n",
        "# with neither\n",
        "# MAE Val Error:  1.2616824409958685\n",
        "# RMSE Val Error:  1.8787108938546002\n",
        "# Val R^2 Score:  0.6227742202496318"
      ],
      "execution_count": 0,
      "outputs": [
        {
          "output_type": "stream",
          "text": [
            "MAE Val Error:  0.5942424180308991\n",
            "RMSE Val Error:  0.992999956799853\n",
            "Val R^2 Score:  0.8946147289684018\n"
          ],
          "name": "stdout"
        }
      ]
    },
    {
      "cell_type": "code",
      "metadata": {
        "id": "Shd8YAxJGxSy",
        "colab_type": "code",
        "colab": {}
      },
      "source": [
        "import eli5\n",
        "from eli5.sklearn import PermutationImportance\n",
        "\n",
        "# See how defining an eli5 permuter takes a model but no data? that's\n",
        "# why your data encoders could be used in a pipeline, but your model couldn't;\n",
        "# the model needs to get passed in at definition. The data does not. \n",
        "permuter = PermutationImportance(\n",
        "    pipeline,\n",
        "    scoring='neg_mean_absolute_error',\n",
        "    n_iter=5,\n",
        "#     random_state=2019\n",
        ")\n",
        "\n",
        "# Now the data gets passed in.\n",
        "permuter.fit(X_val_processed, y_val);"
      ],
      "execution_count": 0,
      "outputs": []
    },
    {
      "cell_type": "code",
      "metadata": {
        "id": "NhVDNiSzGxS0",
        "colab_type": "code",
        "colab": {},
        "outputId": "9964d667-5b4e-4a89-f295-6ba572c8519e"
      },
      "source": [
        "feature_names = X_val.columns.tolist()\n",
        "pd.Series(permuter.feature_importances_, feature_names).sort_values(ascending=False)\n",
        "\n",
        "eli5.show_weights(\n",
        "    permuter, \n",
        "    top=None,\n",
        "    feature_names=feature_names\n",
        ")"
      ],
      "execution_count": 0,
      "outputs": [
        {
          "output_type": "execute_result",
          "data": {
            "text/html": [
              "\n",
              "    <style>\n",
              "    table.eli5-weights tr:hover {\n",
              "        filter: brightness(85%);\n",
              "    }\n",
              "</style>\n",
              "\n",
              "\n",
              "\n",
              "    \n",
              "\n",
              "    \n",
              "\n",
              "    \n",
              "\n",
              "    \n",
              "\n",
              "    \n",
              "\n",
              "    \n",
              "\n",
              "\n",
              "    \n",
              "\n",
              "    \n",
              "\n",
              "    \n",
              "\n",
              "    \n",
              "\n",
              "    \n",
              "\n",
              "    \n",
              "\n",
              "\n",
              "    \n",
              "\n",
              "    \n",
              "\n",
              "    \n",
              "\n",
              "    \n",
              "\n",
              "    \n",
              "        <table class=\"eli5-weights eli5-feature-importances\" style=\"border-collapse: collapse; border: none; margin-top: 0em; table-layout: auto;\">\n",
              "    <thead>\n",
              "    <tr style=\"border: none;\">\n",
              "        <th style=\"padding: 0 1em 0 0.5em; text-align: right; border: none;\">Weight</th>\n",
              "        <th style=\"padding: 0 0.5em 0 0.5em; text-align: left; border: none;\">Feature</th>\n",
              "    </tr>\n",
              "    </thead>\n",
              "    <tbody>\n",
              "    \n",
              "        <tr style=\"background-color: hsl(120, 100.00%, 80.00%); border: none;\">\n",
              "            <td style=\"padding: 0 1em 0 0.5em; text-align: right; border: none;\">\n",
              "                2.1825\n",
              "                \n",
              "                    &plusmn; 0.0363\n",
              "                \n",
              "            </td>\n",
              "            <td style=\"padding: 0 0.5em 0 0.5em; text-align: left; border: none;\">\n",
              "                users_rated\n",
              "            </td>\n",
              "        </tr>\n",
              "    \n",
              "        <tr style=\"background-color: hsl(120, 100.00%, 97.14%); border: none;\">\n",
              "            <td style=\"padding: 0 1em 0 0.5em; text-align: right; border: none;\">\n",
              "                0.1357\n",
              "                \n",
              "                    &plusmn; 0.0080\n",
              "                \n",
              "            </td>\n",
              "            <td style=\"padding: 0 0.5em 0 0.5em; text-align: left; border: none;\">\n",
              "                total_wishers\n",
              "            </td>\n",
              "        </tr>\n",
              "    \n",
              "        <tr style=\"background-color: hsl(120, 100.00%, 97.52%); border: none;\">\n",
              "            <td style=\"padding: 0 1em 0 0.5em; text-align: right; border: none;\">\n",
              "                0.1109\n",
              "                \n",
              "                    &plusmn; 0.0038\n",
              "                \n",
              "            </td>\n",
              "            <td style=\"padding: 0 0.5em 0 0.5em; text-align: left; border: none;\">\n",
              "                year_published\n",
              "            </td>\n",
              "        </tr>\n",
              "    \n",
              "        <tr style=\"background-color: hsl(120, 100.00%, 98.27%); border: none;\">\n",
              "            <td style=\"padding: 0 1em 0 0.5em; text-align: right; border: none;\">\n",
              "                0.0663\n",
              "                \n",
              "                    &plusmn; 0.0027\n",
              "                \n",
              "            </td>\n",
              "            <td style=\"padding: 0 0.5em 0 0.5em; text-align: left; border: none;\">\n",
              "                average_weight\n",
              "            </td>\n",
              "        </tr>\n",
              "    \n",
              "        <tr style=\"background-color: hsl(120, 100.00%, 98.44%); border: none;\">\n",
              "            <td style=\"padding: 0 1em 0 0.5em; text-align: right; border: none;\">\n",
              "                0.0568\n",
              "                \n",
              "                    &plusmn; 0.0019\n",
              "                \n",
              "            </td>\n",
              "            <td style=\"padding: 0 0.5em 0 0.5em; text-align: left; border: none;\">\n",
              "                total_wanters\n",
              "            </td>\n",
              "        </tr>\n",
              "    \n",
              "        <tr style=\"background-color: hsl(120, 100.00%, 98.77%); border: none;\">\n",
              "            <td style=\"padding: 0 1em 0 0.5em; text-align: right; border: none;\">\n",
              "                0.0408\n",
              "                \n",
              "                    &plusmn; 0.0027\n",
              "                \n",
              "            </td>\n",
              "            <td style=\"padding: 0 0.5em 0 0.5em; text-align: left; border: none;\">\n",
              "                total_traders\n",
              "            </td>\n",
              "        </tr>\n",
              "    \n",
              "        <tr style=\"background-color: hsl(120, 100.00%, 99.05%); border: none;\">\n",
              "            <td style=\"padding: 0 1em 0 0.5em; text-align: right; border: none;\">\n",
              "                0.0281\n",
              "                \n",
              "                    &plusmn; 0.0021\n",
              "                \n",
              "            </td>\n",
              "            <td style=\"padding: 0 0.5em 0 0.5em; text-align: left; border: none;\">\n",
              "                total_owners\n",
              "            </td>\n",
              "        </tr>\n",
              "    \n",
              "        <tr style=\"background-color: hsl(120, 100.00%, 99.52%); border: none;\">\n",
              "            <td style=\"padding: 0 1em 0 0.5em; text-align: right; border: none;\">\n",
              "                0.0105\n",
              "                \n",
              "                    &plusmn; 0.0016\n",
              "                \n",
              "            </td>\n",
              "            <td style=\"padding: 0 0.5em 0 0.5em; text-align: left; border: none;\">\n",
              "                min_age\n",
              "            </td>\n",
              "        </tr>\n",
              "    \n",
              "        <tr style=\"background-color: hsl(120, 100.00%, 99.55%); border: none;\">\n",
              "            <td style=\"padding: 0 1em 0 0.5em; text-align: right; border: none;\">\n",
              "                0.0096\n",
              "                \n",
              "                    &plusmn; 0.0012\n",
              "                \n",
              "            </td>\n",
              "            <td style=\"padding: 0 0.5em 0 0.5em; text-align: left; border: none;\">\n",
              "                max_players\n",
              "            </td>\n",
              "        </tr>\n",
              "    \n",
              "        <tr style=\"background-color: hsl(120, 100.00%, 99.57%); border: none;\">\n",
              "            <td style=\"padding: 0 1em 0 0.5em; text-align: right; border: none;\">\n",
              "                0.0091\n",
              "                \n",
              "                    &plusmn; 0.0017\n",
              "                \n",
              "            </td>\n",
              "            <td style=\"padding: 0 0.5em 0 0.5em; text-align: left; border: none;\">\n",
              "                max_playtime\n",
              "            </td>\n",
              "        </tr>\n",
              "    \n",
              "        <tr style=\"background-color: hsl(120, 100.00%, 99.64%); border: none;\">\n",
              "            <td style=\"padding: 0 1em 0 0.5em; text-align: right; border: none;\">\n",
              "                0.0071\n",
              "                \n",
              "                    &plusmn; 0.0004\n",
              "                \n",
              "            </td>\n",
              "            <td style=\"padding: 0 0.5em 0 0.5em; text-align: left; border: none;\">\n",
              "                total_comments\n",
              "            </td>\n",
              "        </tr>\n",
              "    \n",
              "        <tr style=\"background-color: hsl(120, 100.00%, 99.67%); border: none;\">\n",
              "            <td style=\"padding: 0 1em 0 0.5em; text-align: right; border: none;\">\n",
              "                0.0061\n",
              "                \n",
              "                    &plusmn; 0.0004\n",
              "                \n",
              "            </td>\n",
              "            <td style=\"padding: 0 0.5em 0 0.5em; text-align: left; border: none;\">\n",
              "                total_weights\n",
              "            </td>\n",
              "        </tr>\n",
              "    \n",
              "        <tr style=\"background-color: hsl(120, 100.00%, 99.82%); border: none;\">\n",
              "            <td style=\"padding: 0 1em 0 0.5em; text-align: right; border: none;\">\n",
              "                0.0025\n",
              "                \n",
              "                    &plusmn; 0.0009\n",
              "                \n",
              "            </td>\n",
              "            <td style=\"padding: 0 0.5em 0 0.5em; text-align: left; border: none;\">\n",
              "                min_playtime\n",
              "            </td>\n",
              "        </tr>\n",
              "    \n",
              "        <tr style=\"background-color: hsl(120, 100.00%, 99.84%); border: none;\">\n",
              "            <td style=\"padding: 0 1em 0 0.5em; text-align: right; border: none;\">\n",
              "                0.0021\n",
              "                \n",
              "                    &plusmn; 0.0003\n",
              "                \n",
              "            </td>\n",
              "            <td style=\"padding: 0 0.5em 0 0.5em; text-align: left; border: none;\">\n",
              "                min_players\n",
              "            </td>\n",
              "        </tr>\n",
              "    \n",
              "    \n",
              "    </tbody>\n",
              "</table>\n",
              "    \n",
              "\n",
              "    \n",
              "\n",
              "\n",
              "    \n",
              "\n",
              "    \n",
              "\n",
              "    \n",
              "\n",
              "    \n",
              "\n",
              "    \n",
              "\n",
              "    \n",
              "\n",
              "\n",
              "\n"
            ],
            "text/plain": [
              "<IPython.core.display.HTML object>"
            ]
          },
          "metadata": {
            "tags": []
          },
          "execution_count": 15
        }
      ]
    },
    {
      "cell_type": "code",
      "metadata": {
        "id": "XomCz1r5GxS2",
        "colab_type": "code",
        "colab": {},
        "outputId": "b866b86c-bb7e-436e-82f8-7430228cac5f"
      },
      "source": [
        "fig, (ax1, ax2) = plt.subplots(ncols=2, sharey=False, figsize=(12, 4))\n",
        "ax1.set_facecolor('dimgray')\n",
        "ax2.set_facecolor('lightcyan')\n",
        "\n",
        "# Scatter Plot of the true average rating vs users_rated in val set\n",
        "sns.regplot(X_val['users_rated'], y_val, \n",
        "            fit_reg = False, \n",
        "            scatter_kws={'color': 'cyan', \n",
        "                         's': .5}, \n",
        "            ax=ax1);\n",
        "\n",
        "# Scatter Plot of the Predicted average rating vs users_rated in val set\n",
        "sns.regplot(X_val['users_rated'], y_pred, \n",
        "            fit_reg = False, \n",
        "            scatter_kws={'color':'black', \n",
        "                         's': .5}, \n",
        "            ax=ax2);\n",
        "\n",
        "ax1.set(title = \"Game's average rating vs. \\n the game's total number of ratings\",\n",
        "        ylabel='true ratings', \n",
        "        xlim=(-1_500, 50_000),\n",
        "        ylim=(-0.5, 10.5)\n",
        "       )\n",
        "ax2.set(title=\"Model's predicted average rating of a game vs. \\n the game's total number of ratings\",\n",
        "        ylabel='predicted ratings',\n",
        "        xlim=(-1_500, 50_000),\n",
        "        ylim=(-0.5, 10.5)\n",
        "       )\n",
        "plt.show()"
      ],
      "execution_count": 0,
      "outputs": [
        {
          "output_type": "display_data",
          "data": {
            "image/png": "[encoded data removed]",
            "text/plain": [
              "<Figure size 864x288 with 2 Axes>"
            ]
          },
          "metadata": {
            "tags": [],
            "needs_background": "light"
          }
        }
      ]
    },
    {
      "cell_type": "code",
      "metadata": {
        "id": "Gmicm3Y_GxS5",
        "colab_type": "code",
        "colab": {},
        "outputId": "0580ec32-a45e-4852-eb5c-a23b55081ca3"
      },
      "source": [
        "fig, (ax1, ax2) = plt.subplots(ncols=2, sharey=False, figsize=(12, 4))\n",
        "ax1.set_facecolor('dimgray')\n",
        "ax2.set_facecolor('lightcyan')\n",
        "\n",
        "# Zoom in on True val vs users\n",
        "sns.regplot(X_val['users_rated'], y_val, \n",
        "            fit_reg = False, \n",
        "            scatter_kws={'color': 'cyan', \n",
        "                         's': .5}, \n",
        "            ax=ax1);\n",
        "\n",
        "# Zoom in on Pred val vs users\n",
        "sns.regplot(X_val['users_rated'], y_pred, \n",
        "            fit_reg = False, \n",
        "            scatter_kws={'color': 'black',\n",
        "                         's': .5}, \n",
        "            ax=ax2);\n",
        "\n",
        "ax1.set(title = \"Game's average rating vs. \\n the game's total number of ratings\",\n",
        "        ylabel='true ratings', \n",
        "        xlim=(-300, 10_000),\n",
        "        ylim=(-0.5, 10.5)\n",
        "       )\n",
        "ax2.set(title=\"Model's predicted average rating of a game vs. \\n the game's total number of ratings\",\n",
        "        ylabel='predicted ratings',\n",
        "        xlim=(-300, 10_000),\n",
        "        ylim=(-0.5, 10.5)\n",
        "       )\n",
        "plt.show()"
      ],
      "execution_count": 0,
      "outputs": [
        {
          "output_type": "display_data",
          "data": {
            "image/png": "[encoded data removed]",
            "text/plain": [
              "<Figure size 864x288 with 2 Axes>"
            ]
          },
          "metadata": {
            "tags": [],
            "needs_background": "light"
          }
        }
      ]
    },
    {
      "cell_type": "code",
      "metadata": {
        "id": "qxL4Yh99GxS8",
        "colab_type": "code",
        "colab": {},
        "outputId": "0cc094cd-47a8-4a2e-8d09-c3e8fe0b1b46"
      },
      "source": [
        "fig, (ax1, ax2) = plt.subplots(ncols=2, sharey=False, figsize=(12, 4))\n",
        "ax1.set_facecolor('dimgray')\n",
        "ax2.set_facecolor('lightcyan')\n",
        "\n",
        "# Zoom in on True val vs users\n",
        "sns.regplot(X_val['total_wishers'], y_val, \n",
        "            fit_reg = False, \n",
        "            scatter_kws={'color': 'cyan', \n",
        "                         's': .5}, \n",
        "            ax=ax1);\n",
        "\n",
        "# Zoom in on Pred val vs users\n",
        "sns.regplot(X_val['total_wishers'], y_pred, \n",
        "            fit_reg = False, \n",
        "            scatter_kws={'color': 'black',\n",
        "                         's': .5}, \n",
        "            ax=ax2);\n",
        "\n",
        "ax1.set(title = \"Game's average rating vs. \\n the game's total number of ratings\",\n",
        "        ylabel='true ratings', \n",
        "#         xlim=(-300, 10_000),\n",
        "#         ylim=(-0.5, 10.5)\n",
        "       )\n",
        "ax2.set(title=\"Model's predicted average rating of a game vs. \\n the game's total number of ratings\",\n",
        "        ylabel='predicted ratings',\n",
        "#         xlim=(-300, 10_000),\n",
        "#         ylim=(-0.5, 10.5)\n",
        "       )\n",
        "plt.show()"
      ],
      "execution_count": 0,
      "outputs": [
        {
          "output_type": "display_data",
          "data": {
            "image/png": "[encoded data removed]",
            "text/plain": [
              "<Figure size 864x288 with 2 Axes>"
            ]
          },
          "metadata": {
            "tags": [],
            "needs_background": "light"
          }
        }
      ]
    },
    {
      "cell_type": "code",
      "metadata": {
        "id": "dSX2gdezGxS_",
        "colab_type": "code",
        "colab": {}
      },
      "source": [
        ""
      ],
      "execution_count": 0,
      "outputs": []
    }
  ]
}