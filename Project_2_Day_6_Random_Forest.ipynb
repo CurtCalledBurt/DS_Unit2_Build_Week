{
  "nbformat": 4,
  "nbformat_minor": 0,
  "metadata": {
    "kernelspec": {
      "display_name": "Python 3",
      "language": "python",
      "name": "python3"
    },
    "language_info": {
      "codemirror_mode": {
        "name": "ipython",
        "version": 3
      },
      "file_extension": ".py",
      "mimetype": "text/x-python",
      "name": "python",
      "nbconvert_exporter": "python",
      "pygments_lexer": "ipython3",
      "version": "3.7.4"
    },
    "colab": {
      "name": "Project 2 Day 6 - Random Forest.ipynb",
      "provenance": [],
      "include_colab_link": true
    }
  },
  "cells": [
    {
      "cell_type": "markdown",
      "metadata": {
        "id": "view-in-github",
        "colab_type": "text"
      },
      "source": [
        "<a href=\"https://colab.research.google.com/github/CurtCalledBurt/DS_Unit2_Build_Week/blob/master/Project_2_Day_6_Random_Forest.ipynb\" target=\"_parent\"><img src=\"https://colab.research.google.com/assets/colab-badge.svg\" alt=\"Open In Colab\"/></a>"
      ]
    },
    {
      "cell_type": "code",
      "metadata": {
        "id": "PGFU70ct1DC7",
        "colab_type": "code",
        "colab": {}
      },
      "source": [
        "import pandas as pd\n",
        "import numpy as np\n",
        "import matplotlib.pyplot as plt\n",
        "from sklearn.model_selection import train_test_split\n",
        "\n",
        "df = pd.read_csv('/Users/curtismckendrick/Downloads/games.csv')"
      ],
      "execution_count": 0,
      "outputs": []
    },
    {
      "cell_type": "code",
      "metadata": {
        "id": "oV0uouTW1DDB",
        "colab_type": "code",
        "colab": {},
        "outputId": "e2d42ddb-62c7-4083-9797-39e25594e358"
      },
      "source": [
        "df.columns"
      ],
      "execution_count": 0,
      "outputs": [
        {
          "output_type": "execute_result",
          "data": {
            "text/plain": [
              "Index(['id', 'type', 'name', 'yearpublished', 'minplayers', 'maxplayers',\n",
              "       'playingtime', 'minplaytime', 'maxplaytime', 'minage', 'users_rated',\n",
              "       'average_rating', 'bayes_average_rating', 'total_owners',\n",
              "       'total_traders', 'total_wanters', 'total_wishers', 'total_comments',\n",
              "       'total_weights', 'average_weight'],\n",
              "      dtype='object')"
            ]
          },
          "metadata": {
            "tags": []
          },
          "execution_count": 2
        }
      ]
    },
    {
      "cell_type": "code",
      "metadata": {
        "id": "zVf2P0YO1DDG",
        "colab_type": "code",
        "colab": {}
      },
      "source": [
        "# from the glossary I have been able to deduce that:\n",
        "\n",
        "# traders is either:\n",
        "# 1. the number of people who own the game and are willing to trade it, or\n",
        "# 2. the number of people who want the game through trade, not purchase\n",
        "\n",
        "# wanters are those who want the game through trade, typically\n",
        "# wishers are those who want to buy the game\n",
        "\n",
        "# a weight on the site is an abstract measure of how complex a game is, \n",
        "# this number ranges from 1 to 5\n",
        "# So,\n",
        "\n",
        "# total_weights is either: \n",
        "# 1. the total number of people have submitted a \"weight\" for the game or\n",
        "# 2. the total number of all the weights submitted and added up,\n",
        "# and\n",
        "\n",
        "# average_weight is most likely an average of all the measures of weight\n",
        "# submitted by users. This seems most likely as this column ranges from\n",
        "# 1 to 5, like the weights themselves would.\n",
        "\n",
        "\n",
        "column_names = {'yearpublished': 'year_published', 'minplayers': 'min_players',\n",
        "               'maxplayers': 'max_players','playingtime': 'playtime',\n",
        "                'minplaytime': 'min_playtime', 'maxplaytime': 'max_playtime', \n",
        "                'minage': 'min_age'}\n",
        "df = df.rename(columns=column_names)"
      ],
      "execution_count": 0,
      "outputs": []
    },
    {
      "cell_type": "code",
      "metadata": {
        "id": "EmTXKJBt1DDJ",
        "colab_type": "code",
        "colab": {}
      },
      "source": [
        "# feature selection\n",
        "\n",
        "# We try predicting 'average_rating' and see what happens with that.\n",
        "target = 'average_rating'\n",
        "\n",
        "# Obviously we wouldn't know the bayes_average_rating if we knew the average rating, \n",
        "# so we remove that from the features. \n",
        "\n",
        "things_we_cannot_know = ['bayes_average_rating']\n",
        "\n",
        "things_we_do_not_need = ['name', 'type', 'id']\n",
        "\n",
        "# turns out max_playtime and playtime are the same column in all \n",
        "# entrees except for three of them, so we'll drop playtime\n",
        "redundant = ['playtime']\n",
        "\n",
        "all_in_all = things_we_cannot_know + things_we_do_not_need + redundant\n",
        "\n",
        "\n",
        "features = df.columns.drop([target] + all_in_all)\n",
        "X = df[features]\n",
        "y = df[target]\n",
        "\n",
        "\n",
        "# We'll make a few things\n",
        "\n",
        "# Okay, I still don't get this whole SetWithoutCopy Error thing,\n",
        "# but it looks like after making new columns of X with binary operations you should \n",
        "# overwrite a copy of X with the new column and then make a new copy.\n",
        "# This is the only line of code of all the feature making lines that requires this.\n",
        "X=X.copy()\n",
        "# X['min_age_15_or_higher'] = X['min_age'] >= 15\n",
        "X=X.copy()\n",
        "\n",
        "# X['total_interaction'] = X['total_owners'] + X['users_rated'] + X['total_traders'] + X['total_wanters'] + X['total_wishers'] + X['total_comments']\n",
        "# X['total_owners_plus_raters'] = X['total_owners'] + X['users_rated']\n",
        "# X['total_pos_interaction'] = X['total_owners'] + X['users_rated'] + X['total_comments']\n",
        "# X['total_neg_interaction'] = X['total_traders'] + X['total_comments']\n",
        "# X['hype'] = X['total_wanters'] + X['total_wishers'] + X['users_rated']\n",
        "# X['mean_playtime'] = (X['min_playtime'] + X['max_playtime']) / 2\n",
        "# X['new_game'] = X['year_published'] > 2010\n",
        "\n",
        "\n",
        "# normalized_df=(df-df.mean())/df.std()\n",
        "\n",
        "X['users_rated'] = (X['users_rated'] - X['users_rated'].mean()) / X['users_rated'].std()"
      ],
      "execution_count": 0,
      "outputs": []
    },
    {
      "cell_type": "code",
      "metadata": {
        "id": "iG_ysKO51DDL",
        "colab_type": "code",
        "colab": {}
      },
      "source": [
        "# train/test/val split\n",
        "\n",
        "X_train, X_test, y_train, y_test = train_test_split(X, y, random_state=2019)"
      ],
      "execution_count": 0,
      "outputs": []
    },
    {
      "cell_type": "code",
      "metadata": {
        "id": "3CtxrDpL1DDN",
        "colab_type": "code",
        "colab": {},
        "outputId": "c1742817-161c-4402-dee9-e53c75feeaee"
      },
      "source": [
        "# train/test/val split\n",
        "X_train, X_val, y_train, y_val = train_test_split(X_train, y_train, random_state=2019)\n",
        "X_train.shape, y_train.shape, X_test.shape, y_test.shape, X_val.shape, y_val.shape"
      ],
      "execution_count": 0,
      "outputs": [
        {
          "output_type": "execute_result",
          "data": {
            "text/plain": [
              "((45738, 14), (45738,), (20328, 14), (20328,), (15246, 14), (15246,))"
            ]
          },
          "metadata": {
            "tags": []
          },
          "execution_count": 6
        }
      ]
    },
    {
      "cell_type": "code",
      "metadata": {
        "id": "toC-6ir-1DDQ",
        "colab_type": "code",
        "colab": {}
      },
      "source": [
        "# quick and dirty baseline regressor\n",
        "# note it returns a list the same size as the input\n",
        "\n",
        "def baseline_Regressor(target):\n",
        "  from sklearn.metrics import mean_absolute_error, mean_squared_error, r2_score\n",
        "\n",
        "  # making a list of the same size as 'target' \n",
        "  # with the mean of the target as the only possible entree\n",
        "  mean_target = target.mean()\n",
        "  pred_baseline = [mean_target] * len(target)\n",
        "  \n",
        "  #calculating baseline error and score\n",
        "  mae = mean_absolute_error(target, pred_baseline)\n",
        "  mse = mean_squared_error(target, pred_baseline)\n",
        "  r2 = r2_score(target, pred_baseline)\n",
        "  \n",
        "  # printing the errors and scores\n",
        "  return pred_baseline, mae, mse, r2"
      ],
      "execution_count": 0,
      "outputs": []
    },
    {
      "cell_type": "code",
      "metadata": {
        "id": "aszQIQ4T1DDT",
        "colab_type": "code",
        "colab": {},
        "outputId": "f6f1d738-83df-4d71-f28a-b6d40babc767"
      },
      "source": [
        "# get a list of baseline predictions\n",
        "y_pred_base, mae_base, mse_base, r2_base = baseline_Regressor(y_train)\n",
        "mae_base, mse_base, r2_base"
      ],
      "execution_count": 0,
      "outputs": [
        {
          "output_type": "execute_result",
          "data": {
            "text/plain": [
              "(2.711469150949111, 9.321468469749549, 0.0)"
            ]
          },
          "metadata": {
            "tags": []
          },
          "execution_count": 8
        }
      ]
    },
    {
      "cell_type": "code",
      "metadata": {
        "id": "sX48-FvM1DDV",
        "colab_type": "code",
        "colab": {}
      },
      "source": [
        "# Remember that eli5 doesn't play well with pipelines, so you need to make your\n",
        "# model outside of a pipeline.\n",
        "from sklearn.pipeline import make_pipeline\n",
        "from sklearn.impute import SimpleImputer\n",
        "import category_encoders as ce\n",
        "from sklearn.ensemble import RandomForestRegressor\n",
        "from sklearn.impute import SimpleImputer\n",
        "\n",
        "# we make our encoder and imputer in a pipeline\n",
        "processor = make_pipeline(\n",
        "    SimpleImputer(strategy='median')\n",
        ")\n",
        "\n",
        "# we fit the processor onto the data\n",
        "X_train_processed = processor.fit_transform(X_train)\n",
        "X_val_processed = processor.transform(X_val)\n",
        "\n",
        "# we make our model outside the pipeline\n",
        "pipeline = RandomForestRegressor(\n",
        "        n_estimators=150,\n",
        "        max_depth=15,\n",
        "        min_samples_leaf=20,\n",
        "        random_state=2019,\n",
        "        n_jobs=-1\n",
        ")\n",
        "\n",
        "# and fit our model to our processed data\n",
        "pipeline.fit(X_train_processed, y_train);\n",
        "# y_pred_proba = pipeline.predict(X_val_processed)"
      ],
      "execution_count": 0,
      "outputs": []
    },
    {
      "cell_type": "code",
      "metadata": {
        "id": "2P4ZcAJo1DDY",
        "colab_type": "code",
        "colab": {}
      },
      "source": [
        "# # Random forest model\n",
        "\n",
        "# # more robust modelling\n",
        "# # we'll start with a random forest before making our way to xgboost\n",
        "# from sklearn.pipeline import make_pipeline\n",
        "# from sklearn.impute import SimpleImputer\n",
        "# import category_encoders as ce\n",
        "# from sklearn.ensemble import RandomForestRegressor\n",
        "\n",
        "\n",
        "# pipeline = make_pipeline(\n",
        "#     ce.OneHotEncoder(),\n",
        "#     SimpleImputer(strategy='median'),\n",
        "#     RandomForestRegressor(n_estimators=150, random_state=2019, n_jobs=-1)\n",
        "# )\n",
        "# # Fit the model\n",
        "# pipeline.fit(X_train, y_train);"
      ],
      "execution_count": 0,
      "outputs": []
    },
    {
      "cell_type": "code",
      "metadata": {
        "id": "hKnGy4fN1DDa",
        "colab_type": "code",
        "colab": {}
      },
      "source": [
        "# RandomForest error\n",
        "\n",
        "from sklearn.metrics import mean_absolute_error, mean_squared_error, r2_score\n",
        "\n",
        "def error(X_train_processed, y_train, pipeline, train_test_or_val):\n",
        "    kind = train_test_or_val\n",
        "\n",
        "    #make a prediction on the train set\n",
        "    y_pred = pipeline.predict(X_train_processed)\n",
        "\n",
        "    # MAE of train set\n",
        "    mae = mean_absolute_error(y_train, y_pred)\n",
        "    print('MAE ' + kind + ' Error: ', mae)\n",
        "\n",
        "    # RMSE of train set\n",
        "    rmse = np.sqrt(mean_squared_error(y_train, y_pred))\n",
        "    print('RMSE ' + kind + ' Error: ', rmse)\n",
        "\n",
        "    # R2 score of train set\n",
        "    r2 = r2_score(y_train, y_pred)\n",
        "    print(kind + ' R^2 Score: ', r2)\n",
        "    \n",
        "    return None"
      ],
      "execution_count": 0,
      "outputs": []
    },
    {
      "cell_type": "code",
      "metadata": {
        "id": "G8nVCknM1DDc",
        "colab_type": "code",
        "colab": {},
        "outputId": "272ebf4f-6521-4952-b599-a2aa54902f7b"
      },
      "source": [
        "error(X_train_processed, y_train, pipeline, 'Train')"
      ],
      "execution_count": 0,
      "outputs": [
        {
          "output_type": "stream",
          "text": [
            "MAE Train Error:  0.5659301079857182\n",
            "RMSE Train Error:  0.9546100749471084\n",
            "Train R^2 Score:  0.9022385369700222\n"
          ],
          "name": "stdout"
        }
      ]
    },
    {
      "cell_type": "code",
      "metadata": {
        "scrolled": true,
        "id": "2duPaZ1T1DDf",
        "colab_type": "code",
        "colab": {},
        "outputId": "dc466585-7a9c-4584-f4df-1b2133c87f5a"
      },
      "source": [
        "error(X_val_processed, y_val, pipeline, 'Val')\n",
        "\n",
        "# with just plain users_rated\n",
        "# MAE Val Error:  0.5942241404812977\n",
        "# RMSE Val Error:  0.9929736252074519\n",
        "# Val R^2 Score:  0.894620317941877\n",
        "\n",
        "# with plain and normalized users_rated\n",
        "# MAE Val Error:  0.5942258345754675\n",
        "# RMSE Val Error:  0.9929811116576077\n",
        "# Val R^2 Score:  0.894618728931472\n",
        "\n",
        "# with just normalized users_rated\n",
        "# MAE Val Error:  0.5942250790023598\n",
        "# RMSE Val Error:  0.9929742554108404\n",
        "# Val R^2 Score:  0.8946201841807134\n",
        "\n",
        "# with neither\n",
        "# MAE Val Error:  1.2616824409958685\n",
        "# RMSE Val Error:  1.8787108938546002\n",
        "# Val R^2 Score:  0.6227742202496318"
      ],
      "execution_count": 0,
      "outputs": [
        {
          "output_type": "stream",
          "text": [
            "MAE Val Error:  0.5942422137467644\n",
            "RMSE Val Error:  0.9930003536702487\n",
            "Val R^2 Score:  0.8946146447301251\n"
          ],
          "name": "stdout"
        }
      ]
    },
    {
      "cell_type": "code",
      "metadata": {
        "id": "d5j731f31DDj",
        "colab_type": "code",
        "colab": {}
      },
      "source": [
        "import eli5\n",
        "from eli5.sklearn import PermutationImportance\n",
        "\n",
        "# See how defining an eli5 permuter takes a model but no data? that's\n",
        "# why your data encoders could be used in a pipeline, but your model couldn't;\n",
        "# the model needs to get passed in at definition. The data does not. \n",
        "permuter = PermutationImportance(\n",
        "    pipeline,\n",
        "    scoring='neg_mean_absolute_error',\n",
        "    n_iter=5,\n",
        "#     random_state=2019\n",
        ")\n",
        "\n",
        "# Now the data gets passed in.\n",
        "permuter.fit(X_val_processed, y_val);"
      ],
      "execution_count": 0,
      "outputs": []
    },
    {
      "cell_type": "code",
      "metadata": {
        "id": "bnEbYWD51DDl",
        "colab_type": "code",
        "colab": {},
        "outputId": "fcc3955b-cb59-4a9e-dbb7-14f6ac0cc7f1"
      },
      "source": [
        "feature_names = X_val.columns.tolist()\n",
        "pd.Series(permuter.feature_importances_, feature_names).sort_values(ascending=False)\n",
        "\n",
        "eli5.show_weights(\n",
        "    permuter, \n",
        "    top=None,\n",
        "    feature_names=feature_names\n",
        ")"
      ],
      "execution_count": 0,
      "outputs": [
        {
          "output_type": "execute_result",
          "data": {
            "text/html": [
              "\n",
              "    <style>\n",
              "    table.eli5-weights tr:hover {\n",
              "        filter: brightness(85%);\n",
              "    }\n",
              "</style>\n",
              "\n",
              "\n",
              "\n",
              "    \n",
              "\n",
              "    \n",
              "\n",
              "    \n",
              "\n",
              "    \n",
              "\n",
              "    \n",
              "\n",
              "    \n",
              "\n",
              "\n",
              "    \n",
              "\n",
              "    \n",
              "\n",
              "    \n",
              "\n",
              "    \n",
              "\n",
              "    \n",
              "\n",
              "    \n",
              "\n",
              "\n",
              "    \n",
              "\n",
              "    \n",
              "\n",
              "    \n",
              "\n",
              "    \n",
              "\n",
              "    \n",
              "        <table class=\"eli5-weights eli5-feature-importances\" style=\"border-collapse: collapse; border: none; margin-top: 0em; table-layout: auto;\">\n",
              "    <thead>\n",
              "    <tr style=\"border: none;\">\n",
              "        <th style=\"padding: 0 1em 0 0.5em; text-align: right; border: none;\">Weight</th>\n",
              "        <th style=\"padding: 0 0.5em 0 0.5em; text-align: left; border: none;\">Feature</th>\n",
              "    </tr>\n",
              "    </thead>\n",
              "    <tbody>\n",
              "    \n",
              "        <tr style=\"background-color: hsl(120, 100.00%, 80.00%); border: none;\">\n",
              "            <td style=\"padding: 0 1em 0 0.5em; text-align: right; border: none;\">\n",
              "                2.1692\n",
              "                \n",
              "                    &plusmn; 0.0394\n",
              "                \n",
              "            </td>\n",
              "            <td style=\"padding: 0 0.5em 0 0.5em; text-align: left; border: none;\">\n",
              "                users_rated\n",
              "            </td>\n",
              "        </tr>\n",
              "    \n",
              "        <tr style=\"background-color: hsl(120, 100.00%, 97.19%); border: none;\">\n",
              "            <td style=\"padding: 0 1em 0 0.5em; text-align: right; border: none;\">\n",
              "                0.1312\n",
              "                \n",
              "                    &plusmn; 0.0056\n",
              "                \n",
              "            </td>\n",
              "            <td style=\"padding: 0 0.5em 0 0.5em; text-align: left; border: none;\">\n",
              "                total_wishers\n",
              "            </td>\n",
              "        </tr>\n",
              "    \n",
              "        <tr style=\"background-color: hsl(120, 100.00%, 97.52%); border: none;\">\n",
              "            <td style=\"padding: 0 1em 0 0.5em; text-align: right; border: none;\">\n",
              "                0.1097\n",
              "                \n",
              "                    &plusmn; 0.0064\n",
              "                \n",
              "            </td>\n",
              "            <td style=\"padding: 0 0.5em 0 0.5em; text-align: left; border: none;\">\n",
              "                year_published\n",
              "            </td>\n",
              "        </tr>\n",
              "    \n",
              "        <tr style=\"background-color: hsl(120, 100.00%, 98.23%); border: none;\">\n",
              "            <td style=\"padding: 0 1em 0 0.5em; text-align: right; border: none;\">\n",
              "                0.0680\n",
              "                \n",
              "                    &plusmn; 0.0009\n",
              "                \n",
              "            </td>\n",
              "            <td style=\"padding: 0 0.5em 0 0.5em; text-align: left; border: none;\">\n",
              "                average_weight\n",
              "            </td>\n",
              "        </tr>\n",
              "    \n",
              "        <tr style=\"background-color: hsl(120, 100.00%, 98.46%); border: none;\">\n",
              "            <td style=\"padding: 0 1em 0 0.5em; text-align: right; border: none;\">\n",
              "                0.0558\n",
              "                \n",
              "                    &plusmn; 0.0019\n",
              "                \n",
              "            </td>\n",
              "            <td style=\"padding: 0 0.5em 0 0.5em; text-align: left; border: none;\">\n",
              "                total_wanters\n",
              "            </td>\n",
              "        </tr>\n",
              "    \n",
              "        <tr style=\"background-color: hsl(120, 100.00%, 98.76%); border: none;\">\n",
              "            <td style=\"padding: 0 1em 0 0.5em; text-align: right; border: none;\">\n",
              "                0.0409\n",
              "                \n",
              "                    &plusmn; 0.0023\n",
              "                \n",
              "            </td>\n",
              "            <td style=\"padding: 0 0.5em 0 0.5em; text-align: left; border: none;\">\n",
              "                total_traders\n",
              "            </td>\n",
              "        </tr>\n",
              "    \n",
              "        <tr style=\"background-color: hsl(120, 100.00%, 99.06%); border: none;\">\n",
              "            <td style=\"padding: 0 1em 0 0.5em; text-align: right; border: none;\">\n",
              "                0.0275\n",
              "                \n",
              "                    &plusmn; 0.0027\n",
              "                \n",
              "            </td>\n",
              "            <td style=\"padding: 0 0.5em 0 0.5em; text-align: left; border: none;\">\n",
              "                total_owners\n",
              "            </td>\n",
              "        </tr>\n",
              "    \n",
              "        <tr style=\"background-color: hsl(120, 100.00%, 99.50%); border: none;\">\n",
              "            <td style=\"padding: 0 1em 0 0.5em; text-align: right; border: none;\">\n",
              "                0.0110\n",
              "                \n",
              "                    &plusmn; 0.0012\n",
              "                \n",
              "            </td>\n",
              "            <td style=\"padding: 0 0.5em 0 0.5em; text-align: left; border: none;\">\n",
              "                min_age\n",
              "            </td>\n",
              "        </tr>\n",
              "    \n",
              "        <tr style=\"background-color: hsl(120, 100.00%, 99.56%); border: none;\">\n",
              "            <td style=\"padding: 0 1em 0 0.5em; text-align: right; border: none;\">\n",
              "                0.0092\n",
              "                \n",
              "                    &plusmn; 0.0008\n",
              "                \n",
              "            </td>\n",
              "            <td style=\"padding: 0 0.5em 0 0.5em; text-align: left; border: none;\">\n",
              "                max_players\n",
              "            </td>\n",
              "        </tr>\n",
              "    \n",
              "        <tr style=\"background-color: hsl(120, 100.00%, 99.58%); border: none;\">\n",
              "            <td style=\"padding: 0 1em 0 0.5em; text-align: right; border: none;\">\n",
              "                0.0087\n",
              "                \n",
              "                    &plusmn; 0.0016\n",
              "                \n",
              "            </td>\n",
              "            <td style=\"padding: 0 0.5em 0 0.5em; text-align: left; border: none;\">\n",
              "                max_playtime\n",
              "            </td>\n",
              "        </tr>\n",
              "    \n",
              "        <tr style=\"background-color: hsl(120, 100.00%, 99.62%); border: none;\">\n",
              "            <td style=\"padding: 0 1em 0 0.5em; text-align: right; border: none;\">\n",
              "                0.0074\n",
              "                \n",
              "                    &plusmn; 0.0005\n",
              "                \n",
              "            </td>\n",
              "            <td style=\"padding: 0 0.5em 0 0.5em; text-align: left; border: none;\">\n",
              "                total_comments\n",
              "            </td>\n",
              "        </tr>\n",
              "    \n",
              "        <tr style=\"background-color: hsl(120, 100.00%, 99.67%); border: none;\">\n",
              "            <td style=\"padding: 0 1em 0 0.5em; text-align: right; border: none;\">\n",
              "                0.0062\n",
              "                \n",
              "                    &plusmn; 0.0004\n",
              "                \n",
              "            </td>\n",
              "            <td style=\"padding: 0 0.5em 0 0.5em; text-align: left; border: none;\">\n",
              "                total_weights\n",
              "            </td>\n",
              "        </tr>\n",
              "    \n",
              "        <tr style=\"background-color: hsl(120, 100.00%, 99.82%); border: none;\">\n",
              "            <td style=\"padding: 0 1em 0 0.5em; text-align: right; border: none;\">\n",
              "                0.0027\n",
              "                \n",
              "                    &plusmn; 0.0003\n",
              "                \n",
              "            </td>\n",
              "            <td style=\"padding: 0 0.5em 0 0.5em; text-align: left; border: none;\">\n",
              "                min_playtime\n",
              "            </td>\n",
              "        </tr>\n",
              "    \n",
              "        <tr style=\"background-color: hsl(120, 100.00%, 99.86%); border: none;\">\n",
              "            <td style=\"padding: 0 1em 0 0.5em; text-align: right; border: none;\">\n",
              "                0.0018\n",
              "                \n",
              "                    &plusmn; 0.0004\n",
              "                \n",
              "            </td>\n",
              "            <td style=\"padding: 0 0.5em 0 0.5em; text-align: left; border: none;\">\n",
              "                min_players\n",
              "            </td>\n",
              "        </tr>\n",
              "    \n",
              "    \n",
              "    </tbody>\n",
              "</table>\n",
              "    \n",
              "\n",
              "    \n",
              "\n",
              "\n",
              "    \n",
              "\n",
              "    \n",
              "\n",
              "    \n",
              "\n",
              "    \n",
              "\n",
              "    \n",
              "\n",
              "    \n",
              "\n",
              "\n",
              "\n"
            ],
            "text/plain": [
              "<IPython.core.display.HTML object>"
            ]
          },
          "metadata": {
            "tags": []
          },
          "execution_count": 15
        }
      ]
    },
    {
      "cell_type": "code",
      "metadata": {
        "scrolled": false,
        "id": "nvBlnqZA1DDo",
        "colab_type": "code",
        "colab": {}
      },
      "source": [
        "# we make another model using just the most effective feature, users_rated\n",
        "\n",
        "\n",
        "# we make our encoder and imputer in a pipeline\n",
        "processor = make_pipeline(\n",
        "    SimpleImputer(strategy='median')\n",
        ")\n",
        "\n",
        "# we fit the processor onto the data\n",
        "\n",
        "X_train_users = np.array(X_train['users_rated'])\n",
        "X_val_users = np.array(X_val['users_rated'])\n",
        "\n",
        "X_train_users = X_train_users.reshape(-1,1)\n",
        "X_val_users = X_val_users.reshape(-1,1)\n",
        "\n",
        "X_train_users = processor.fit_transform(X_train_users)\n",
        "X_val_users = processor.transform(X_val_users)\n",
        "\n",
        "# we make our model outside the pipeline\n",
        "model = RandomForestRegressor(\n",
        "        n_estimators=150,\n",
        "        max_depth=15,\n",
        "        min_samples_leaf=20,\n",
        "        random_state=2019,\n",
        "        n_jobs=-1\n",
        ")\n",
        "\n",
        "# and fit our model to our processed data\n",
        "model.fit(X_train_users, y_train);\n",
        "y_pred = model.predict(X_train_users)"
      ],
      "execution_count": 0,
      "outputs": []
    },
    {
      "cell_type": "code",
      "metadata": {
        "id": "Q-OTFziM1DDq",
        "colab_type": "code",
        "colab": {},
        "outputId": "5c13c26e-eb6d-4315-d208-37540dcfe53b"
      },
      "source": [
        "error(X_train_users, y_train, model, 'Train')"
      ],
      "execution_count": 0,
      "outputs": [
        {
          "output_type": "stream",
          "text": [
            "MAE Train Error:  0.8215113717733912\n",
            "RMSE Train Error:  1.2755288259049393\n",
            "Train R^2 Score:  0.8254594980399964\n"
          ],
          "name": "stdout"
        }
      ]
    },
    {
      "cell_type": "code",
      "metadata": {
        "id": "EoITPjOS1DDt",
        "colab_type": "code",
        "colab": {},
        "outputId": "e683c640-5a0a-440f-a567-8577b86a834c"
      },
      "source": [
        "error(X_val_users, y_val, model, 'Val')"
      ],
      "execution_count": 0,
      "outputs": [
        {
          "output_type": "stream",
          "text": [
            "MAE Val Error:  0.816878013284002\n",
            "RMSE Val Error:  1.2657551576021593\n",
            "Val R^2 Score:  0.8287696008811412\n"
          ],
          "name": "stdout"
        }
      ]
    },
    {
      "cell_type": "code",
      "metadata": {
        "id": "qxTImHrw1DDv",
        "colab_type": "code",
        "colab": {}
      },
      "source": [
        ""
      ],
      "execution_count": 0,
      "outputs": []
    }
  ]
}